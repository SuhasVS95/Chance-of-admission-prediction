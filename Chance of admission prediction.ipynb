{
 "cells": [
  {
   "cell_type": "markdown",
   "metadata": {},
   "source": [
    "# Chance of Admission Prediction"
   ]
  },
  {
   "cell_type": "markdown",
   "metadata": {},
   "source": [
    "The dataset contains several parameters which are considered important during the application for Masters Programs.\n",
    "The parameters included are :\n",
    "\n",
    "GRE Scores ( out of 340 )<br>\n",
    "TOEFL Scores ( out of 120 )<br>\n",
    "University Rating ( out of 5 )<br>\n",
    "Statement of Purpose and Letter of Recommendation Strength ( out of 5 )<br>\n",
    "Undergraduate GPA ( out of 10 )<br>\n",
    "Research Experience ( either 0 or 1 )<br>\n",
    "Chance of Admit ( ranging from 0 to 1 )<br>"
   ]
  },
  {
   "cell_type": "markdown",
   "metadata": {},
   "source": [
    "Dataset Citation: Mohan S Acharya, Asfia Armaan, Aneeta S Antony : A Comparison of Regression Models for Prediction of Graduate Admissions, IEEE International Conference on Computational Intelligence in Data Science 2019"
   ]
  },
  {
   "cell_type": "markdown",
   "metadata": {},
   "source": [
    "### In this notebook we go through first the EDA of the data and then with 10 different models of Linear Regression"
   ]
  },
  {
   "cell_type": "code",
   "execution_count": null,
   "metadata": {},
   "outputs": [],
   "source": [
    "# Import the libraries"
   ]
  },
  {
   "cell_type": "code",
   "execution_count": 620,
   "metadata": {},
   "outputs": [],
   "source": [
    "# import 'Numpy' \n",
    "import numpy as np\n",
    "\n",
    "# import 'Pandas' \n",
    "import pandas as pd\n",
    "\n",
    "# import subpackage of Matplotlib\n",
    "import matplotlib.pyplot as plt\n",
    "\n",
    "# import 'Seaborn' \n",
    "import seaborn as sns\n",
    "\n",
    "# to suppress warnings \n",
    "from warnings import filterwarnings\n",
    "filterwarnings('ignore')\n",
    "\n",
    "# import train-test split \n",
    "from sklearn.model_selection import train_test_split\n",
    "\n",
    "# import various functions from statsmodels\n",
    "import statsmodels\n",
    "import statsmodels.api as sm\n",
    "\n",
    "# import 'stats'\n",
    "from scipy import stats\n",
    "\n",
    "# 'metrics' from sklearn is used for evaluating the model performance\n",
    "from sklearn.metrics import mean_squared_error\n",
    "from sklearn.metrics import mean_absolute_error\n",
    "\n",
    "\n",
    "# import function to perform linear regression\n",
    "from sklearn.linear_model import LinearRegression\n",
    "\n",
    "# import StandardScaler to perform scaling\n",
    "from sklearn.preprocessing import StandardScaler \n",
    "\n",
    "# import SGDRegressor from sklearn to perform linear regression with stochastic gradient descent\n",
    "from sklearn.linear_model import SGDRegressor\n",
    "\n",
    "# import function for ridge regression\n",
    "from sklearn.linear_model import Ridge\n",
    "\n",
    "# import function for lasso regression\n",
    "from sklearn.linear_model import Lasso\n",
    "\n",
    "# import function for elastic net regression\n",
    "from sklearn.linear_model import ElasticNet\n",
    "\n",
    "# import function to perform GridSearchCV\n",
    "from sklearn.model_selection import GridSearchCV\n",
    "\n",
    "from statsmodels.stats.outliers_influence import variance_inflation_factor\n",
    "\n",
    "plt.rcParams['figure.figsize'] = [15,8]\n",
    "\n",
    "from sklearn.model_selection import LeaveOneOut\n",
    "from sklearn.model_selection import cross_val_score\n",
    "from sklearn.model_selection import KFold\n",
    "\n",
    "from sklearn.linear_model import Ridge\n",
    "from sklearn.linear_model import Lasso\n",
    "from sklearn.linear_model import ElasticNet\n",
    "from sklearn.model_selection import GridSearchCV"
   ]
  },
  {
   "cell_type": "code",
   "execution_count": 166,
   "metadata": {},
   "outputs": [
    {
     "data": {
      "text/html": [
       "<div>\n",
       "<style scoped>\n",
       "    .dataframe tbody tr th:only-of-type {\n",
       "        vertical-align: middle;\n",
       "    }\n",
       "\n",
       "    .dataframe tbody tr th {\n",
       "        vertical-align: top;\n",
       "    }\n",
       "\n",
       "    .dataframe thead th {\n",
       "        text-align: right;\n",
       "    }\n",
       "</style>\n",
       "<table border=\"1\" class=\"dataframe\">\n",
       "  <thead>\n",
       "    <tr style=\"text-align: right;\">\n",
       "      <th></th>\n",
       "      <th>GRE Score</th>\n",
       "      <th>TOEFL Score</th>\n",
       "      <th>University Rating</th>\n",
       "      <th>SOP</th>\n",
       "      <th>LOR</th>\n",
       "      <th>CGPA</th>\n",
       "      <th>Research</th>\n",
       "      <th>Chance of Admit</th>\n",
       "    </tr>\n",
       "    <tr>\n",
       "      <th>Serial No.</th>\n",
       "      <th></th>\n",
       "      <th></th>\n",
       "      <th></th>\n",
       "      <th></th>\n",
       "      <th></th>\n",
       "      <th></th>\n",
       "      <th></th>\n",
       "      <th></th>\n",
       "    </tr>\n",
       "  </thead>\n",
       "  <tbody>\n",
       "    <tr>\n",
       "      <th>1</th>\n",
       "      <td>337</td>\n",
       "      <td>118</td>\n",
       "      <td>4</td>\n",
       "      <td>4.5</td>\n",
       "      <td>4.5</td>\n",
       "      <td>9.65</td>\n",
       "      <td>1</td>\n",
       "      <td>0.92</td>\n",
       "    </tr>\n",
       "    <tr>\n",
       "      <th>2</th>\n",
       "      <td>324</td>\n",
       "      <td>107</td>\n",
       "      <td>4</td>\n",
       "      <td>4.0</td>\n",
       "      <td>4.5</td>\n",
       "      <td>8.87</td>\n",
       "      <td>1</td>\n",
       "      <td>0.76</td>\n",
       "    </tr>\n",
       "    <tr>\n",
       "      <th>3</th>\n",
       "      <td>316</td>\n",
       "      <td>104</td>\n",
       "      <td>3</td>\n",
       "      <td>3.0</td>\n",
       "      <td>3.5</td>\n",
       "      <td>8.00</td>\n",
       "      <td>1</td>\n",
       "      <td>0.72</td>\n",
       "    </tr>\n",
       "    <tr>\n",
       "      <th>4</th>\n",
       "      <td>322</td>\n",
       "      <td>110</td>\n",
       "      <td>3</td>\n",
       "      <td>3.5</td>\n",
       "      <td>2.5</td>\n",
       "      <td>8.67</td>\n",
       "      <td>1</td>\n",
       "      <td>0.80</td>\n",
       "    </tr>\n",
       "    <tr>\n",
       "      <th>5</th>\n",
       "      <td>314</td>\n",
       "      <td>103</td>\n",
       "      <td>2</td>\n",
       "      <td>2.0</td>\n",
       "      <td>3.0</td>\n",
       "      <td>8.21</td>\n",
       "      <td>0</td>\n",
       "      <td>0.65</td>\n",
       "    </tr>\n",
       "  </tbody>\n",
       "</table>\n",
       "</div>"
      ],
      "text/plain": [
       "            GRE Score  TOEFL Score  University Rating  SOP  LOR   CGPA  \\\n",
       "Serial No.                                                               \n",
       "1                 337          118                  4  4.5   4.5  9.65   \n",
       "2                 324          107                  4  4.0   4.5  8.87   \n",
       "3                 316          104                  3  3.0   3.5  8.00   \n",
       "4                 322          110                  3  3.5   2.5  8.67   \n",
       "5                 314          103                  2  2.0   3.0  8.21   \n",
       "\n",
       "            Research  Chance of Admit   \n",
       "Serial No.                              \n",
       "1                  1              0.92  \n",
       "2                  1              0.76  \n",
       "3                  1              0.72  \n",
       "4                  1              0.80  \n",
       "5                  0              0.65  "
      ]
     },
     "execution_count": 166,
     "metadata": {},
     "output_type": "execute_result"
    }
   ],
   "source": [
    "df_admission=pd.read_csv(\"Admission_Predict.csv\",index_col=0)\n",
    "df_admission.head()"
   ]
  },
  {
   "cell_type": "markdown",
   "metadata": {},
   "source": [
    "## Exploratory Data Analysis(EDA)"
   ]
  },
  {
   "cell_type": "code",
   "execution_count": 167,
   "metadata": {},
   "outputs": [
    {
     "data": {
      "text/plain": [
       "(400, 8)"
      ]
     },
     "execution_count": 167,
     "metadata": {},
     "output_type": "execute_result"
    }
   ],
   "source": [
    "df_admission.shape"
   ]
  },
  {
   "cell_type": "code",
   "execution_count": 168,
   "metadata": {},
   "outputs": [
    {
     "name": "stdout",
     "output_type": "stream",
     "text": [
      "<class 'pandas.core.frame.DataFrame'>\n",
      "Int64Index: 400 entries, 1 to 400\n",
      "Data columns (total 8 columns):\n",
      " #   Column             Non-Null Count  Dtype  \n",
      "---  ------             --------------  -----  \n",
      " 0   GRE Score          400 non-null    int64  \n",
      " 1   TOEFL Score        400 non-null    int64  \n",
      " 2   University Rating  400 non-null    int64  \n",
      " 3   SOP                400 non-null    float64\n",
      " 4   LOR                400 non-null    float64\n",
      " 5   CGPA               400 non-null    float64\n",
      " 6   Research           400 non-null    int64  \n",
      " 7   Chance of Admit    400 non-null    float64\n",
      "dtypes: float64(4), int64(4)\n",
      "memory usage: 28.1 KB\n"
     ]
    }
   ],
   "source": [
    "df_admission.info()"
   ]
  },
  {
   "cell_type": "code",
   "execution_count": 169,
   "metadata": {},
   "outputs": [
    {
     "data": {
      "text/html": [
       "<div>\n",
       "<style scoped>\n",
       "    .dataframe tbody tr th:only-of-type {\n",
       "        vertical-align: middle;\n",
       "    }\n",
       "\n",
       "    .dataframe tbody tr th {\n",
       "        vertical-align: top;\n",
       "    }\n",
       "\n",
       "    .dataframe thead th {\n",
       "        text-align: right;\n",
       "    }\n",
       "</style>\n",
       "<table border=\"1\" class=\"dataframe\">\n",
       "  <thead>\n",
       "    <tr style=\"text-align: right;\">\n",
       "      <th></th>\n",
       "      <th>GRE Score</th>\n",
       "      <th>TOEFL Score</th>\n",
       "      <th>University Rating</th>\n",
       "      <th>SOP</th>\n",
       "      <th>LOR</th>\n",
       "      <th>CGPA</th>\n",
       "      <th>Research</th>\n",
       "      <th>Chance of Admit</th>\n",
       "    </tr>\n",
       "  </thead>\n",
       "  <tbody>\n",
       "    <tr>\n",
       "      <th>count</th>\n",
       "      <td>400.000000</td>\n",
       "      <td>400.000000</td>\n",
       "      <td>400.000000</td>\n",
       "      <td>400.000000</td>\n",
       "      <td>400.000000</td>\n",
       "      <td>400.000000</td>\n",
       "      <td>400.000000</td>\n",
       "      <td>400.000000</td>\n",
       "    </tr>\n",
       "    <tr>\n",
       "      <th>mean</th>\n",
       "      <td>316.807500</td>\n",
       "      <td>107.410000</td>\n",
       "      <td>3.087500</td>\n",
       "      <td>3.400000</td>\n",
       "      <td>3.452500</td>\n",
       "      <td>8.598925</td>\n",
       "      <td>0.547500</td>\n",
       "      <td>0.724350</td>\n",
       "    </tr>\n",
       "    <tr>\n",
       "      <th>std</th>\n",
       "      <td>11.473646</td>\n",
       "      <td>6.069514</td>\n",
       "      <td>1.143728</td>\n",
       "      <td>1.006869</td>\n",
       "      <td>0.898478</td>\n",
       "      <td>0.596317</td>\n",
       "      <td>0.498362</td>\n",
       "      <td>0.142609</td>\n",
       "    </tr>\n",
       "    <tr>\n",
       "      <th>min</th>\n",
       "      <td>290.000000</td>\n",
       "      <td>92.000000</td>\n",
       "      <td>1.000000</td>\n",
       "      <td>1.000000</td>\n",
       "      <td>1.000000</td>\n",
       "      <td>6.800000</td>\n",
       "      <td>0.000000</td>\n",
       "      <td>0.340000</td>\n",
       "    </tr>\n",
       "    <tr>\n",
       "      <th>25%</th>\n",
       "      <td>308.000000</td>\n",
       "      <td>103.000000</td>\n",
       "      <td>2.000000</td>\n",
       "      <td>2.500000</td>\n",
       "      <td>3.000000</td>\n",
       "      <td>8.170000</td>\n",
       "      <td>0.000000</td>\n",
       "      <td>0.640000</td>\n",
       "    </tr>\n",
       "    <tr>\n",
       "      <th>50%</th>\n",
       "      <td>317.000000</td>\n",
       "      <td>107.000000</td>\n",
       "      <td>3.000000</td>\n",
       "      <td>3.500000</td>\n",
       "      <td>3.500000</td>\n",
       "      <td>8.610000</td>\n",
       "      <td>1.000000</td>\n",
       "      <td>0.730000</td>\n",
       "    </tr>\n",
       "    <tr>\n",
       "      <th>75%</th>\n",
       "      <td>325.000000</td>\n",
       "      <td>112.000000</td>\n",
       "      <td>4.000000</td>\n",
       "      <td>4.000000</td>\n",
       "      <td>4.000000</td>\n",
       "      <td>9.062500</td>\n",
       "      <td>1.000000</td>\n",
       "      <td>0.830000</td>\n",
       "    </tr>\n",
       "    <tr>\n",
       "      <th>max</th>\n",
       "      <td>340.000000</td>\n",
       "      <td>120.000000</td>\n",
       "      <td>5.000000</td>\n",
       "      <td>5.000000</td>\n",
       "      <td>5.000000</td>\n",
       "      <td>9.920000</td>\n",
       "      <td>1.000000</td>\n",
       "      <td>0.970000</td>\n",
       "    </tr>\n",
       "  </tbody>\n",
       "</table>\n",
       "</div>"
      ],
      "text/plain": [
       "        GRE Score  TOEFL Score  University Rating         SOP        LOR   \\\n",
       "count  400.000000   400.000000         400.000000  400.000000  400.000000   \n",
       "mean   316.807500   107.410000           3.087500    3.400000    3.452500   \n",
       "std     11.473646     6.069514           1.143728    1.006869    0.898478   \n",
       "min    290.000000    92.000000           1.000000    1.000000    1.000000   \n",
       "25%    308.000000   103.000000           2.000000    2.500000    3.000000   \n",
       "50%    317.000000   107.000000           3.000000    3.500000    3.500000   \n",
       "75%    325.000000   112.000000           4.000000    4.000000    4.000000   \n",
       "max    340.000000   120.000000           5.000000    5.000000    5.000000   \n",
       "\n",
       "             CGPA    Research  Chance of Admit   \n",
       "count  400.000000  400.000000        400.000000  \n",
       "mean     8.598925    0.547500          0.724350  \n",
       "std      0.596317    0.498362          0.142609  \n",
       "min      6.800000    0.000000          0.340000  \n",
       "25%      8.170000    0.000000          0.640000  \n",
       "50%      8.610000    1.000000          0.730000  \n",
       "75%      9.062500    1.000000          0.830000  \n",
       "max      9.920000    1.000000          0.970000  "
      ]
     },
     "execution_count": 169,
     "metadata": {},
     "output_type": "execute_result"
    }
   ],
   "source": [
    "df_admission.describe()"
   ]
  },
  {
   "cell_type": "code",
   "execution_count": 170,
   "metadata": {},
   "outputs": [
    {
     "data": {
      "text/plain": [
       "GRE Score            0\n",
       "TOEFL Score          0\n",
       "University Rating    0\n",
       "SOP                  0\n",
       "LOR                  0\n",
       "CGPA                 0\n",
       "Research             0\n",
       "Chance of Admit      0\n",
       "dtype: int64"
      ]
     },
     "execution_count": 170,
     "metadata": {},
     "output_type": "execute_result"
    }
   ],
   "source": [
    "df_admission.isna().sum()"
   ]
  },
  {
   "cell_type": "code",
   "execution_count": 171,
   "metadata": {},
   "outputs": [
    {
     "data": {
      "image/png": "[encoded data removed]",
      "text/plain": [
       "<Figure size 1080x576 with 1 Axes>"
      ]
     },
     "metadata": {
      "needs_background": "light"
     },
     "output_type": "display_data"
    }
   ],
   "source": [
    "sns.heatmap(df_admission.isnull(), cbar=False)\n",
    "plt.show()"
   ]
  },
  {
   "cell_type": "code",
   "execution_count": 172,
   "metadata": {},
   "outputs": [
    {
     "data": {
      "text/html": [
       "<div>\n",
       "<style scoped>\n",
       "    .dataframe tbody tr th:only-of-type {\n",
       "        vertical-align: middle;\n",
       "    }\n",
       "\n",
       "    .dataframe tbody tr th {\n",
       "        vertical-align: top;\n",
       "    }\n",
       "\n",
       "    .dataframe thead th {\n",
       "        text-align: right;\n",
       "    }\n",
       "</style>\n",
       "<table border=\"1\" class=\"dataframe\">\n",
       "  <thead>\n",
       "    <tr style=\"text-align: right;\">\n",
       "      <th></th>\n",
       "      <th>GRE Score</th>\n",
       "      <th>TOEFL Score</th>\n",
       "      <th>University Rating</th>\n",
       "      <th>SOP</th>\n",
       "      <th>LOR</th>\n",
       "      <th>CGPA</th>\n",
       "      <th>Research</th>\n",
       "      <th>Chance of Admit</th>\n",
       "    </tr>\n",
       "  </thead>\n",
       "  <tbody>\n",
       "    <tr>\n",
       "      <th>GRE Score</th>\n",
       "      <td>1.000000</td>\n",
       "      <td>0.835977</td>\n",
       "      <td>0.668976</td>\n",
       "      <td>0.612831</td>\n",
       "      <td>0.557555</td>\n",
       "      <td>0.833060</td>\n",
       "      <td>0.580391</td>\n",
       "      <td>0.802610</td>\n",
       "    </tr>\n",
       "    <tr>\n",
       "      <th>TOEFL Score</th>\n",
       "      <td>0.835977</td>\n",
       "      <td>1.000000</td>\n",
       "      <td>0.695590</td>\n",
       "      <td>0.657981</td>\n",
       "      <td>0.567721</td>\n",
       "      <td>0.828417</td>\n",
       "      <td>0.489858</td>\n",
       "      <td>0.791594</td>\n",
       "    </tr>\n",
       "    <tr>\n",
       "      <th>University Rating</th>\n",
       "      <td>0.668976</td>\n",
       "      <td>0.695590</td>\n",
       "      <td>1.000000</td>\n",
       "      <td>0.734523</td>\n",
       "      <td>0.660123</td>\n",
       "      <td>0.746479</td>\n",
       "      <td>0.447783</td>\n",
       "      <td>0.711250</td>\n",
       "    </tr>\n",
       "    <tr>\n",
       "      <th>SOP</th>\n",
       "      <td>0.612831</td>\n",
       "      <td>0.657981</td>\n",
       "      <td>0.734523</td>\n",
       "      <td>1.000000</td>\n",
       "      <td>0.729593</td>\n",
       "      <td>0.718144</td>\n",
       "      <td>0.444029</td>\n",
       "      <td>0.675732</td>\n",
       "    </tr>\n",
       "    <tr>\n",
       "      <th>LOR</th>\n",
       "      <td>0.557555</td>\n",
       "      <td>0.567721</td>\n",
       "      <td>0.660123</td>\n",
       "      <td>0.729593</td>\n",
       "      <td>1.000000</td>\n",
       "      <td>0.670211</td>\n",
       "      <td>0.396859</td>\n",
       "      <td>0.669889</td>\n",
       "    </tr>\n",
       "    <tr>\n",
       "      <th>CGPA</th>\n",
       "      <td>0.833060</td>\n",
       "      <td>0.828417</td>\n",
       "      <td>0.746479</td>\n",
       "      <td>0.718144</td>\n",
       "      <td>0.670211</td>\n",
       "      <td>1.000000</td>\n",
       "      <td>0.521654</td>\n",
       "      <td>0.873289</td>\n",
       "    </tr>\n",
       "    <tr>\n",
       "      <th>Research</th>\n",
       "      <td>0.580391</td>\n",
       "      <td>0.489858</td>\n",
       "      <td>0.447783</td>\n",
       "      <td>0.444029</td>\n",
       "      <td>0.396859</td>\n",
       "      <td>0.521654</td>\n",
       "      <td>1.000000</td>\n",
       "      <td>0.553202</td>\n",
       "    </tr>\n",
       "    <tr>\n",
       "      <th>Chance of Admit</th>\n",
       "      <td>0.802610</td>\n",
       "      <td>0.791594</td>\n",
       "      <td>0.711250</td>\n",
       "      <td>0.675732</td>\n",
       "      <td>0.669889</td>\n",
       "      <td>0.873289</td>\n",
       "      <td>0.553202</td>\n",
       "      <td>1.000000</td>\n",
       "    </tr>\n",
       "  </tbody>\n",
       "</table>\n",
       "</div>"
      ],
      "text/plain": [
       "                   GRE Score  TOEFL Score  University Rating       SOP  \\\n",
       "GRE Score           1.000000     0.835977           0.668976  0.612831   \n",
       "TOEFL Score         0.835977     1.000000           0.695590  0.657981   \n",
       "University Rating   0.668976     0.695590           1.000000  0.734523   \n",
       "SOP                 0.612831     0.657981           0.734523  1.000000   \n",
       "LOR                 0.557555     0.567721           0.660123  0.729593   \n",
       "CGPA                0.833060     0.828417           0.746479  0.718144   \n",
       "Research            0.580391     0.489858           0.447783  0.444029   \n",
       "Chance of Admit     0.802610     0.791594           0.711250  0.675732   \n",
       "\n",
       "                       LOR       CGPA  Research  Chance of Admit   \n",
       "GRE Score          0.557555  0.833060  0.580391          0.802610  \n",
       "TOEFL Score        0.567721  0.828417  0.489858          0.791594  \n",
       "University Rating  0.660123  0.746479  0.447783          0.711250  \n",
       "SOP                0.729593  0.718144  0.444029          0.675732  \n",
       "LOR                1.000000  0.670211  0.396859          0.669889  \n",
       "CGPA               0.670211  1.000000  0.521654          0.873289  \n",
       "Research           0.396859  0.521654  1.000000          0.553202  \n",
       "Chance of Admit    0.669889  0.873289  0.553202          1.000000  "
      ]
     },
     "execution_count": 172,
     "metadata": {},
     "output_type": "execute_result"
    }
   ],
   "source": [
    "df_admission_correlation=df_admission.corr()\n",
    "df_admission_correlation"
   ]
  },
  {
   "cell_type": "code",
   "execution_count": 173,
   "metadata": {},
   "outputs": [
    {
     "data": {
      "image/png": "[encoded data removed]",
      "text/plain": [
       "<Figure size 1080x576 with 2 Axes>"
      ]
     },
     "metadata": {
      "needs_background": "light"
     },
     "output_type": "display_data"
    }
   ],
   "source": [
    "sns.heatmap(df_admission_correlation,annot=True)\n",
    "plt.show()"
   ]
  },
  {
   "cell_type": "code",
   "execution_count": 174,
   "metadata": {},
   "outputs": [
    {
     "data": {
      "text/plain": [
       "0.0006481207424791461"
      ]
     },
     "execution_count": 174,
     "metadata": {},
     "output_type": "execute_result"
    }
   ],
   "source": [
    "np.linalg.det(df_admission_correlation.values) # Severe multicollinearity exists"
   ]
  },
  {
   "cell_type": "markdown",
   "metadata": {},
   "source": [
    "### Check for non-multicollinear variables"
   ]
  },
  {
   "cell_type": "code",
   "execution_count": 281,
   "metadata": {},
   "outputs": [
    {
     "data": {
      "text/html": [
       "<div>\n",
       "<style scoped>\n",
       "    .dataframe tbody tr th:only-of-type {\n",
       "        vertical-align: middle;\n",
       "    }\n",
       "\n",
       "    .dataframe tbody tr th {\n",
       "        vertical-align: top;\n",
       "    }\n",
       "\n",
       "    .dataframe thead th {\n",
       "        text-align: right;\n",
       "    }\n",
       "</style>\n",
       "<table border=\"1\" class=\"dataframe\">\n",
       "  <thead>\n",
       "    <tr style=\"text-align: right;\">\n",
       "      <th></th>\n",
       "      <th>VIF_Factor</th>\n",
       "      <th>Features</th>\n",
       "    </tr>\n",
       "  </thead>\n",
       "  <tbody>\n",
       "    <tr>\n",
       "      <th>0</th>\n",
       "      <td>1607.928316</td>\n",
       "      <td>GRE Score</td>\n",
       "    </tr>\n",
       "    <tr>\n",
       "      <th>1</th>\n",
       "      <td>1373.804681</td>\n",
       "      <td>TOEFL Score</td>\n",
       "    </tr>\n",
       "    <tr>\n",
       "      <th>2</th>\n",
       "      <td>1333.886926</td>\n",
       "      <td>CGPA</td>\n",
       "    </tr>\n",
       "    <tr>\n",
       "      <th>3</th>\n",
       "      <td>108.476950</td>\n",
       "      <td>Chance of Admit</td>\n",
       "    </tr>\n",
       "    <tr>\n",
       "      <th>4</th>\n",
       "      <td>39.774185</td>\n",
       "      <td>LOR</td>\n",
       "    </tr>\n",
       "    <tr>\n",
       "      <th>5</th>\n",
       "      <td>38.051007</td>\n",
       "      <td>SOP</td>\n",
       "    </tr>\n",
       "    <tr>\n",
       "      <th>6</th>\n",
       "      <td>22.998812</td>\n",
       "      <td>University Rating</td>\n",
       "    </tr>\n",
       "    <tr>\n",
       "      <th>7</th>\n",
       "      <td>3.211789</td>\n",
       "      <td>Research</td>\n",
       "    </tr>\n",
       "  </tbody>\n",
       "</table>\n",
       "</div>"
      ],
      "text/plain": [
       "    VIF_Factor           Features\n",
       "0  1607.928316          GRE Score\n",
       "1  1373.804681        TOEFL Score\n",
       "2  1333.886926               CGPA\n",
       "3   108.476950   Chance of Admit \n",
       "4    39.774185               LOR \n",
       "5    38.051007                SOP\n",
       "6    22.998812  University Rating\n",
       "7     3.211789           Research"
      ]
     },
     "execution_count": 281,
     "metadata": {},
     "output_type": "execute_result"
    }
   ],
   "source": [
    "df_numeric_features_vif = df_admission.select_dtypes(include=[np.number])\n",
    "vif = pd.DataFrame()\n",
    "vif[\"VIF_Factor\"] = [variance_inflation_factor(df_numeric_features_vif.values, i) for i in range(df_numeric_features_vif.shape[1])]\n",
    "vif[\"Features\"] = df_numeric_features_vif.columns\n",
    "vif.sort_values('VIF_Factor', ascending = False).reset_index(drop = True)"
   ]
  },
  {
   "cell_type": "code",
   "execution_count": 282,
   "metadata": {},
   "outputs": [
    {
     "name": "stdout",
     "output_type": "stream",
     "text": [
      "   VIF_Factor           Features\n",
      "0   10.252752        TOEFL Score\n",
      "1   12.063993  University Rating\n",
      "2    2.759247           Research\n"
     ]
    }
   ],
   "source": [
    "for ind in range(len(df_numeric_features_vif.columns)):\n",
    "    vif = pd.DataFrame()\n",
    "    vif[\"VIF_Factor\"] = [variance_inflation_factor(df_numeric_features_vif.values, i) for i in range(df_numeric_features_vif.shape[1])]\n",
    "    vif[\"Features\"] = df_numeric_features_vif.columns\n",
    "    vif.sort_values(\"VIF_Factor\",ascending=False)\n",
    "    multi = vif[vif['VIF_Factor'] > 20]\n",
    "    if(multi.empty == False):\n",
    "        df_sorted = multi.sort_values(by = 'VIF_Factor', ascending = False)\n",
    "    else:\n",
    "        print(vif)\n",
    "        break\n",
    "    if (df_sorted.empty == False):\n",
    "        df_numeric_features_vif = df_numeric_features_vif.drop(df_sorted.Features.iloc[0], axis=1)\n",
    "    else:\n",
    "        print(vif)"
   ]
  },
  {
   "cell_type": "code",
   "execution_count": 175,
   "metadata": {},
   "outputs": [
    {
     "data": {
      "image/png": "[encoded data removed]",
      "text/plain": [
       "<Figure size 1080x576 with 9 Axes>"
      ]
     },
     "metadata": {
      "needs_background": "light"
     },
     "output_type": "display_data"
    }
   ],
   "source": [
    "df_admission.hist()\n",
    "plt.show()"
   ]
  },
  {
   "cell_type": "code",
   "execution_count": 176,
   "metadata": {},
   "outputs": [
    {
     "data": {
      "image/png": "[encoded data removed]",
      "text/plain": [
       "<Figure size 1080x576 with 1 Axes>"
      ]
     },
     "metadata": {
      "needs_background": "light"
     },
     "output_type": "display_data"
    }
   ],
   "source": [
    "df_admission.boxplot()\n",
    "plt.show()"
   ]
  },
  {
   "cell_type": "code",
   "execution_count": 177,
   "metadata": {},
   "outputs": [
    {
     "data": {
      "text/plain": [
       "Index(['GRE Score', 'TOEFL Score', 'University Rating', 'SOP', 'LOR ', 'CGPA',\n",
       "       'Research', 'Chance of Admit '],\n",
       "      dtype='object')"
      ]
     },
     "execution_count": 177,
     "metadata": {},
     "output_type": "execute_result"
    }
   ],
   "source": [
    "df_admission.columns"
   ]
  },
  {
   "cell_type": "code",
   "execution_count": 178,
   "metadata": {},
   "outputs": [
    {
     "data": {
      "image/png": "[encoded data removed]",
      "text/plain": [
       "<Figure size 1080x576 with 1 Axes>"
      ]
     },
     "metadata": {
      "needs_background": "light"
     },
     "output_type": "display_data"
    }
   ],
   "source": [
    "df_admission[['LOR ', 'CGPA','Chance of Admit ']].boxplot()\n",
    "plt.show()"
   ]
  },
  {
   "cell_type": "markdown",
   "metadata": {},
   "source": [
    "### No Outlier treatment is needed."
   ]
  },
  {
   "cell_type": "code",
   "execution_count": 183,
   "metadata": {},
   "outputs": [
    {
     "data": {
      "text/plain": [
       "Index(['GRE Score', 'TOEFL Score', 'University Rating', 'SOP', 'LOR ', 'CGPA',\n",
       "       'Research', 'Chance of Admit '],\n",
       "      dtype='object')"
      ]
     },
     "execution_count": 183,
     "metadata": {},
     "output_type": "execute_result"
    }
   ],
   "source": [
    "df_admission.columns"
   ]
  },
  {
   "cell_type": "code",
   "execution_count": 188,
   "metadata": {},
   "outputs": [
    {
     "data": {
      "image/png": "[encoded data removed]",
      "text/plain": [
       "<Figure size 1080x576 with 1 Axes>"
      ]
     },
     "metadata": {
      "needs_background": "light"
     },
     "output_type": "display_data"
    }
   ],
   "source": [
    "ax=sns.barplot(df_admission.Research,df_admission[\"Chance of Admit \"])\n",
    "for p in ax.patches:\n",
    "    ax.annotate(format(p.get_height(), '.2f'), (p.get_x() + p.get_width() / 2, p.get_height()), ha = 'center',\n",
    "           xytext = (0, 15), textcoords = 'offset points')\n",
    "plt.show()"
   ]
  },
  {
   "cell_type": "markdown",
   "metadata": {},
   "source": [
    "# user defined functions to get the model performance scores"
   ]
  },
  {
   "cell_type": "code",
   "execution_count": 543,
   "metadata": {},
   "outputs": [],
   "source": [
    "def get_train_rmse(model):\n",
    "    train_pred = model.predict(X_train)\n",
    "    mse_train = mean_squared_error(y_train, train_pred)\n",
    "    rmse_train = round(np.sqrt(mse_train), 4)\n",
    "    return(rmse_train)\n",
    "\n",
    "def get_test_rmse(model):\n",
    "    test_pred = model.predict(X_test)\n",
    "    mse_test = mean_squared_error(y_test, test_pred)\n",
    "    rmse_test = round(np.sqrt(mse_test), 4)\n",
    "    return(rmse_test)\n",
    "\n",
    "def mape(actual, predicted):\n",
    "    return (np.mean(np.abs((actual - predicted) / actual)) * 100)\n",
    "\n",
    "def get_test_mape(model):\n",
    "    test_pred = model.predict(X_test)\n",
    "    mape_test = mape(y_test, test_pred)\n",
    "    return(mape_test)\n",
    "\n",
    "def get_score(model):\n",
    "    r_sq = model.score(X_train, y_train)\n",
    "    n = X_train.shape[0]\n",
    "    k = X_train.shape[1]\n",
    "    r_sq_adj = 1 - ((1-r_sq)*(n-1)/(n-k-1))\n",
    "    return ([r_sq, r_sq_adj])\n",
    "\n",
    "score_card = pd.DataFrame(columns=['Model_Name', 'Alpha', 'l1-ratio', 'R-Squared',\n",
    "                                       'Adj. R-Squared', 'Train_RMSE','Test_RMSE', 'Test_MAPE'])\n",
    "def update_score_card(algorithm_name, model, alpha = '-', l1_ratio = '-'):\n",
    "    global score_card\n",
    "    score_card = score_card.append({'Model_Name': algorithm_name,\n",
    "                       'Alpha': alpha, \n",
    "                       'l1-ratio': l1_ratio, \n",
    "                       'Test_MAPE': get_test_mape(model),\n",
    "                       'Train_RMSE': get_train_rmse(model),\n",
    "                       'Test_RMSE': get_test_rmse(model), \n",
    "                       'R-Squared': get_score(model)[0], \n",
    "                       'Adj. R-Squared': get_score(model)[1]}, ignore_index = True)\n",
    "    return score_card\n",
    "    \n",
    "def plot_coefficients(model, algorithm_name):\n",
    "    df_coeff = pd.DataFrame({'Variable': X.columns, 'Coefficient': model.coef_})\n",
    "    sorted_coeff = df_coeff.sort_values('Coefficient', ascending = False)\n",
    "    sns.barplot(x = \"Coefficient\", y = \"Variable\", data = sorted_coeff)\n",
    "    plt.xlabel(\"Coefficients from {}\".format(algorithm_name), fontsize = 15)\n",
    "    plt.ylabel('Features', fontsize = 15)"
   ]
  },
  {
   "cell_type": "markdown",
   "metadata": {},
   "source": [
    "# Models\n",
    "\n",
    "1. **[Simple full OLS model](#full)**\n",
    "2. **[Simple full OLS model with rating and research as object](#full1)**\n",
    "3. **[Model with the only non-multicollinear columns fron vif output](#full2)**\n",
    "4. **[OLS full model with dependent log transformed](#full4)**\n",
    "5. **[OLS full model with both X&y log transformed](#full5)**\n",
    "6. **[Model with interaction effect between SOP and LOR](#full6)**\n",
    "7. **[Model with interaction effect between SOP/LOR and GRE/TOEFL](#full7)**\n",
    "8. **[OLS with Standardised and encoded variables](#full8)**\n",
    "9. **[OLS with Normalised and encoded variables](#full9)**\n",
    "10. **[Linear Regression using SGD](#full10)**"
   ]
  },
  {
   "cell_type": "markdown",
   "metadata": {},
   "source": [
    "<a id=\"full\"></a>\n",
    "# 1) Simple full OLS model"
   ]
  },
  {
   "cell_type": "code",
   "execution_count": 544,
   "metadata": {},
   "outputs": [],
   "source": [
    "X=df_admission.drop(columns=[\"Chance of Admit \"])\n",
    "X=sm.add_constant(X)\n",
    "y=df_admission[\"Chance of Admit \"]\n",
    "X_train, X_test, y_train, y_test = train_test_split(X, y, random_state = 10, test_size = 0.2)"
   ]
  },
  {
   "cell_type": "code",
   "execution_count": 545,
   "metadata": {},
   "outputs": [
    {
     "name": "stdout",
     "output_type": "stream",
     "text": [
      "                            OLS Regression Results                            \n",
      "==============================================================================\n",
      "Dep. Variable:       Chance of Admit    R-squared:                       0.811\n",
      "Model:                            OLS   Adj. R-squared:                  0.807\n",
      "Method:                 Least Squares   F-statistic:                     191.9\n",
      "Date:                Sat, 20 Feb 2021   Prob (F-statistic):          4.99e-109\n",
      "Time:                        08:59:32   Log-Likelihood:                 432.32\n",
      "No. Observations:                 320   AIC:                            -848.6\n",
      "Df Residuals:                     312   BIC:                            -818.5\n",
      "Df Model:                           7                                         \n",
      "Covariance Type:            nonrobust                                         \n",
      "=====================================================================================\n",
      "                        coef    std err          t      P>|t|      [0.025      0.975]\n",
      "-------------------------------------------------------------------------------------\n",
      "const                -1.3226      0.143     -9.227      0.000      -1.605      -1.041\n",
      "GRE Score             0.0018      0.001      2.701      0.007       0.000       0.003\n",
      "TOEFL Score           0.0030      0.001      2.435      0.015       0.001       0.005\n",
      "University Rating     0.0076      0.006      1.373      0.171      -0.003       0.019\n",
      "SOP                  -0.0052      0.006     -0.857      0.392      -0.017       0.007\n",
      "LOR                   0.0235      0.006      3.856      0.000       0.011       0.035\n",
      "CGPA                  0.1225      0.014      8.902      0.000       0.095       0.150\n",
      "Research              0.0131      0.009      1.436      0.152      -0.005       0.031\n",
      "==============================================================================\n",
      "Omnibus:                       62.774   Durbin-Watson:                   1.738\n",
      "Prob(Omnibus):                  0.000   Jarque-Bera (JB):              119.445\n",
      "Skew:                          -1.047   Prob(JB):                     1.16e-26\n",
      "Kurtosis:                       5.138   Cond. No.                     1.35e+04\n",
      "==============================================================================\n",
      "\n",
      "Warnings:\n",
      "[1] Standard Errors assume that the covariance matrix of the errors is correctly specified.\n",
      "[2] The condition number is large, 1.35e+04. This might indicate that there are\n",
      "strong multicollinearity or other numerical problems.\n"
     ]
    }
   ],
   "source": [
    "full_ols=sm.OLS(y_train,X_train).fit()\n",
    "print(full_ols.summary())"
   ]
  },
  {
   "cell_type": "code",
   "execution_count": 546,
   "metadata": {},
   "outputs": [
    {
     "data": {
      "image/png": "[encoded data removed]",
      "text/plain": [
       "<Figure size 1080x576 with 1 Axes>"
      ]
     },
     "metadata": {
      "needs_background": "light"
     },
     "output_type": "display_data"
    }
   ],
   "source": [
    "full_ols.resid.hist();plt.show()"
   ]
  },
  {
   "cell_type": "markdown",
   "metadata": {},
   "source": [
    "### Inference for a Simple full OLS model:\n",
    "\n",
    "##### 1) Model explaind 81.1% variance of the target variable \"Chance of Admit\".\n",
    "##### 2) Durbin-Watson stat is < 2. There is autocorrelation in the data.\n",
    "##### 3) The residual is left-skewed probably due to the target variable being left-skewed.\n",
    "##### 4) Presence of severe multicollinearity.\n",
    "##### 5) Insignificant Variables: University Rating, SOP, Research(pvalue>0.05).Keeping rating and research as int"
   ]
  },
  {
   "cell_type": "code",
   "execution_count": 547,
   "metadata": {},
   "outputs": [
    {
     "data": {
      "text/html": [
       "<div>\n",
       "<style scoped>\n",
       "    .dataframe tbody tr th:only-of-type {\n",
       "        vertical-align: middle;\n",
       "    }\n",
       "\n",
       "    .dataframe tbody tr th {\n",
       "        vertical-align: top;\n",
       "    }\n",
       "\n",
       "    .dataframe thead th {\n",
       "        text-align: right;\n",
       "    }\n",
       "</style>\n",
       "<table border=\"1\" class=\"dataframe\">\n",
       "  <thead>\n",
       "    <tr style=\"text-align: right;\">\n",
       "      <th></th>\n",
       "      <th>Model_Name</th>\n",
       "      <th>Alpha</th>\n",
       "      <th>l1-ratio</th>\n",
       "      <th>R-Squared</th>\n",
       "      <th>Adj. R-Squared</th>\n",
       "      <th>Train_RMSE</th>\n",
       "      <th>Test_RMSE</th>\n",
       "      <th>Test_MAPE</th>\n",
       "    </tr>\n",
       "  </thead>\n",
       "  <tbody>\n",
       "    <tr>\n",
       "      <th>0</th>\n",
       "      <td>Simple full OLS model</td>\n",
       "      <td>-</td>\n",
       "      <td>-</td>\n",
       "      <td>0.811496</td>\n",
       "      <td>0.806647</td>\n",
       "      <td>0.0627</td>\n",
       "      <td>0.0662</td>\n",
       "      <td>7.047081</td>\n",
       "    </tr>\n",
       "  </tbody>\n",
       "</table>\n",
       "</div>"
      ],
      "text/plain": [
       "              Model_Name Alpha l1-ratio  R-Squared  Adj. R-Squared  \\\n",
       "0  Simple full OLS model     -        -   0.811496        0.806647   \n",
       "\n",
       "   Train_RMSE  Test_RMSE  Test_MAPE  \n",
       "0      0.0627     0.0662   7.047081  "
      ]
     },
     "execution_count": 547,
     "metadata": {},
     "output_type": "execute_result"
    }
   ],
   "source": [
    "linear_reg=LinearRegression()\n",
    "full_linear_regression=linear_reg.fit(X_train, y_train)\n",
    "update_score_card(\"Simple full OLS model\",full_linear_regression)"
   ]
  },
  {
   "cell_type": "markdown",
   "metadata": {},
   "source": [
    "### Checking for VIF of variables after performing object conversion of University Rating and Research"
   ]
  },
  {
   "cell_type": "code",
   "execution_count": 548,
   "metadata": {},
   "outputs": [
    {
     "name": "stdout",
     "output_type": "stream",
     "text": [
      "<class 'pandas.core.frame.DataFrame'>\n",
      "Int64Index: 400 entries, 1 to 400\n",
      "Data columns (total 8 columns):\n",
      " #   Column             Non-Null Count  Dtype  \n",
      "---  ------             --------------  -----  \n",
      " 0   GRE Score          400 non-null    int64  \n",
      " 1   TOEFL Score        400 non-null    int64  \n",
      " 2   University Rating  400 non-null    int64  \n",
      " 3   SOP                400 non-null    float64\n",
      " 4   LOR                400 non-null    float64\n",
      " 5   CGPA               400 non-null    float64\n",
      " 6   Research           400 non-null    int64  \n",
      " 7   Chance of Admit    400 non-null    float64\n",
      "dtypes: float64(4), int64(4)\n",
      "memory usage: 28.1 KB\n"
     ]
    }
   ],
   "source": [
    "df=df_admission.copy()\n",
    "df.info()"
   ]
  },
  {
   "cell_type": "code",
   "execution_count": 549,
   "metadata": {},
   "outputs": [],
   "source": [
    "df.Research.replace(to_replace=[1,0],value=[\"Research Completed\",\"Research Not Completed\"],inplace=True)"
   ]
  },
  {
   "cell_type": "code",
   "execution_count": 550,
   "metadata": {},
   "outputs": [
    {
     "name": "stdout",
     "output_type": "stream",
     "text": [
      "<class 'pandas.core.frame.DataFrame'>\n",
      "Int64Index: 400 entries, 1 to 400\n",
      "Data columns (total 8 columns):\n",
      " #   Column             Non-Null Count  Dtype  \n",
      "---  ------             --------------  -----  \n",
      " 0   GRE Score          400 non-null    int64  \n",
      " 1   TOEFL Score        400 non-null    int64  \n",
      " 2   University Rating  400 non-null    int64  \n",
      " 3   SOP                400 non-null    float64\n",
      " 4   LOR                400 non-null    float64\n",
      " 5   CGPA               400 non-null    float64\n",
      " 6   Research           400 non-null    object \n",
      " 7   Chance of Admit    400 non-null    float64\n",
      "dtypes: float64(4), int64(3), object(1)\n",
      "memory usage: 28.1+ KB\n"
     ]
    }
   ],
   "source": [
    "df.info()"
   ]
  },
  {
   "cell_type": "code",
   "execution_count": 551,
   "metadata": {},
   "outputs": [],
   "source": [
    "df[\"University Rating\"]=df[\"University Rating\"].astype(\"object\")"
   ]
  },
  {
   "cell_type": "code",
   "execution_count": 552,
   "metadata": {},
   "outputs": [
    {
     "data": {
      "text/html": [
       "<div>\n",
       "<style scoped>\n",
       "    .dataframe tbody tr th:only-of-type {\n",
       "        vertical-align: middle;\n",
       "    }\n",
       "\n",
       "    .dataframe tbody tr th {\n",
       "        vertical-align: top;\n",
       "    }\n",
       "\n",
       "    .dataframe thead th {\n",
       "        text-align: right;\n",
       "    }\n",
       "</style>\n",
       "<table border=\"1\" class=\"dataframe\">\n",
       "  <thead>\n",
       "    <tr style=\"text-align: right;\">\n",
       "      <th></th>\n",
       "      <th>GRE Score</th>\n",
       "      <th>TOEFL Score</th>\n",
       "      <th>University Rating</th>\n",
       "      <th>SOP</th>\n",
       "      <th>LOR</th>\n",
       "      <th>CGPA</th>\n",
       "      <th>Research</th>\n",
       "      <th>Chance of Admit</th>\n",
       "    </tr>\n",
       "    <tr>\n",
       "      <th>Serial No.</th>\n",
       "      <th></th>\n",
       "      <th></th>\n",
       "      <th></th>\n",
       "      <th></th>\n",
       "      <th></th>\n",
       "      <th></th>\n",
       "      <th></th>\n",
       "      <th></th>\n",
       "    </tr>\n",
       "  </thead>\n",
       "  <tbody>\n",
       "    <tr>\n",
       "      <th>1</th>\n",
       "      <td>337</td>\n",
       "      <td>118</td>\n",
       "      <td>4</td>\n",
       "      <td>4.5</td>\n",
       "      <td>4.5</td>\n",
       "      <td>9.65</td>\n",
       "      <td>Research Completed</td>\n",
       "      <td>0.92</td>\n",
       "    </tr>\n",
       "    <tr>\n",
       "      <th>2</th>\n",
       "      <td>324</td>\n",
       "      <td>107</td>\n",
       "      <td>4</td>\n",
       "      <td>4.0</td>\n",
       "      <td>4.5</td>\n",
       "      <td>8.87</td>\n",
       "      <td>Research Completed</td>\n",
       "      <td>0.76</td>\n",
       "    </tr>\n",
       "    <tr>\n",
       "      <th>3</th>\n",
       "      <td>316</td>\n",
       "      <td>104</td>\n",
       "      <td>3</td>\n",
       "      <td>3.0</td>\n",
       "      <td>3.5</td>\n",
       "      <td>8.00</td>\n",
       "      <td>Research Completed</td>\n",
       "      <td>0.72</td>\n",
       "    </tr>\n",
       "    <tr>\n",
       "      <th>4</th>\n",
       "      <td>322</td>\n",
       "      <td>110</td>\n",
       "      <td>3</td>\n",
       "      <td>3.5</td>\n",
       "      <td>2.5</td>\n",
       "      <td>8.67</td>\n",
       "      <td>Research Completed</td>\n",
       "      <td>0.80</td>\n",
       "    </tr>\n",
       "    <tr>\n",
       "      <th>5</th>\n",
       "      <td>314</td>\n",
       "      <td>103</td>\n",
       "      <td>2</td>\n",
       "      <td>2.0</td>\n",
       "      <td>3.0</td>\n",
       "      <td>8.21</td>\n",
       "      <td>Research Not Completed</td>\n",
       "      <td>0.65</td>\n",
       "    </tr>\n",
       "    <tr>\n",
       "      <th>...</th>\n",
       "      <td>...</td>\n",
       "      <td>...</td>\n",
       "      <td>...</td>\n",
       "      <td>...</td>\n",
       "      <td>...</td>\n",
       "      <td>...</td>\n",
       "      <td>...</td>\n",
       "      <td>...</td>\n",
       "    </tr>\n",
       "    <tr>\n",
       "      <th>396</th>\n",
       "      <td>324</td>\n",
       "      <td>110</td>\n",
       "      <td>3</td>\n",
       "      <td>3.5</td>\n",
       "      <td>3.5</td>\n",
       "      <td>9.04</td>\n",
       "      <td>Research Completed</td>\n",
       "      <td>0.82</td>\n",
       "    </tr>\n",
       "    <tr>\n",
       "      <th>397</th>\n",
       "      <td>325</td>\n",
       "      <td>107</td>\n",
       "      <td>3</td>\n",
       "      <td>3.0</td>\n",
       "      <td>3.5</td>\n",
       "      <td>9.11</td>\n",
       "      <td>Research Completed</td>\n",
       "      <td>0.84</td>\n",
       "    </tr>\n",
       "    <tr>\n",
       "      <th>398</th>\n",
       "      <td>330</td>\n",
       "      <td>116</td>\n",
       "      <td>4</td>\n",
       "      <td>5.0</td>\n",
       "      <td>4.5</td>\n",
       "      <td>9.45</td>\n",
       "      <td>Research Completed</td>\n",
       "      <td>0.91</td>\n",
       "    </tr>\n",
       "    <tr>\n",
       "      <th>399</th>\n",
       "      <td>312</td>\n",
       "      <td>103</td>\n",
       "      <td>3</td>\n",
       "      <td>3.5</td>\n",
       "      <td>4.0</td>\n",
       "      <td>8.78</td>\n",
       "      <td>Research Not Completed</td>\n",
       "      <td>0.67</td>\n",
       "    </tr>\n",
       "    <tr>\n",
       "      <th>400</th>\n",
       "      <td>333</td>\n",
       "      <td>117</td>\n",
       "      <td>4</td>\n",
       "      <td>5.0</td>\n",
       "      <td>4.0</td>\n",
       "      <td>9.66</td>\n",
       "      <td>Research Completed</td>\n",
       "      <td>0.95</td>\n",
       "    </tr>\n",
       "  </tbody>\n",
       "</table>\n",
       "<p>400 rows × 8 columns</p>\n",
       "</div>"
      ],
      "text/plain": [
       "            GRE Score  TOEFL Score University Rating  SOP  LOR   CGPA  \\\n",
       "Serial No.                                                              \n",
       "1                 337          118                 4  4.5   4.5  9.65   \n",
       "2                 324          107                 4  4.0   4.5  8.87   \n",
       "3                 316          104                 3  3.0   3.5  8.00   \n",
       "4                 322          110                 3  3.5   2.5  8.67   \n",
       "5                 314          103                 2  2.0   3.0  8.21   \n",
       "...               ...          ...               ...  ...   ...   ...   \n",
       "396               324          110                 3  3.5   3.5  9.04   \n",
       "397               325          107                 3  3.0   3.5  9.11   \n",
       "398               330          116                 4  5.0   4.5  9.45   \n",
       "399               312          103                 3  3.5   4.0  8.78   \n",
       "400               333          117                 4  5.0   4.0  9.66   \n",
       "\n",
       "                          Research  Chance of Admit   \n",
       "Serial No.                                            \n",
       "1               Research Completed              0.92  \n",
       "2               Research Completed              0.76  \n",
       "3               Research Completed              0.72  \n",
       "4               Research Completed              0.80  \n",
       "5           Research Not Completed              0.65  \n",
       "...                            ...               ...  \n",
       "396             Research Completed              0.82  \n",
       "397             Research Completed              0.84  \n",
       "398             Research Completed              0.91  \n",
       "399         Research Not Completed              0.67  \n",
       "400             Research Completed              0.95  \n",
       "\n",
       "[400 rows x 8 columns]"
      ]
     },
     "execution_count": 552,
     "metadata": {},
     "output_type": "execute_result"
    }
   ],
   "source": [
    "df"
   ]
  },
  {
   "cell_type": "code",
   "execution_count": 553,
   "metadata": {},
   "outputs": [
    {
     "name": "stdout",
     "output_type": "stream",
     "text": [
      "<class 'pandas.core.frame.DataFrame'>\n",
      "Int64Index: 400 entries, 1 to 400\n",
      "Data columns (total 8 columns):\n",
      " #   Column             Non-Null Count  Dtype  \n",
      "---  ------             --------------  -----  \n",
      " 0   GRE Score          400 non-null    int64  \n",
      " 1   TOEFL Score        400 non-null    int64  \n",
      " 2   University Rating  400 non-null    object \n",
      " 3   SOP                400 non-null    float64\n",
      " 4   LOR                400 non-null    float64\n",
      " 5   CGPA               400 non-null    float64\n",
      " 6   Research           400 non-null    object \n",
      " 7   Chance of Admit    400 non-null    float64\n",
      "dtypes: float64(4), int64(2), object(2)\n",
      "memory usage: 28.1+ KB\n"
     ]
    }
   ],
   "source": [
    "df.info()"
   ]
  },
  {
   "cell_type": "code",
   "execution_count": 554,
   "metadata": {},
   "outputs": [
    {
     "data": {
      "text/html": [
       "<div>\n",
       "<style scoped>\n",
       "    .dataframe tbody tr th:only-of-type {\n",
       "        vertical-align: middle;\n",
       "    }\n",
       "\n",
       "    .dataframe tbody tr th {\n",
       "        vertical-align: top;\n",
       "    }\n",
       "\n",
       "    .dataframe thead th {\n",
       "        text-align: right;\n",
       "    }\n",
       "</style>\n",
       "<table border=\"1\" class=\"dataframe\">\n",
       "  <thead>\n",
       "    <tr style=\"text-align: right;\">\n",
       "      <th></th>\n",
       "      <th>VIF_Factor</th>\n",
       "      <th>Features</th>\n",
       "    </tr>\n",
       "  </thead>\n",
       "  <tbody>\n",
       "    <tr>\n",
       "      <th>0</th>\n",
       "      <td>1324.789220</td>\n",
       "      <td>TOEFL Score</td>\n",
       "    </tr>\n",
       "    <tr>\n",
       "      <th>1</th>\n",
       "      <td>1307.834613</td>\n",
       "      <td>GRE Score</td>\n",
       "    </tr>\n",
       "    <tr>\n",
       "      <th>2</th>\n",
       "      <td>1014.666400</td>\n",
       "      <td>CGPA</td>\n",
       "    </tr>\n",
       "    <tr>\n",
       "      <th>3</th>\n",
       "      <td>37.154292</td>\n",
       "      <td>LOR</td>\n",
       "    </tr>\n",
       "    <tr>\n",
       "      <th>4</th>\n",
       "      <td>32.487842</td>\n",
       "      <td>SOP</td>\n",
       "    </tr>\n",
       "  </tbody>\n",
       "</table>\n",
       "</div>"
      ],
      "text/plain": [
       "    VIF_Factor     Features\n",
       "0  1324.789220  TOEFL Score\n",
       "1  1307.834613    GRE Score\n",
       "2  1014.666400         CGPA\n",
       "3    37.154292         LOR \n",
       "4    32.487842          SOP"
      ]
     },
     "execution_count": 554,
     "metadata": {},
     "output_type": "execute_result"
    }
   ],
   "source": [
    "df_numeric_features_vif = df.drop(columns=\"Chance of Admit \").select_dtypes(include=[np.number])\n",
    "vif = pd.DataFrame()\n",
    "vif[\"VIF_Factor\"] = [variance_inflation_factor(df_numeric_features_vif.values, i) for i in range(df_numeric_features_vif.shape[1])]\n",
    "vif[\"Features\"] = df_numeric_features_vif.columns\n",
    "vif.sort_values('VIF_Factor', ascending = False).reset_index(drop = True)"
   ]
  },
  {
   "cell_type": "code",
   "execution_count": 555,
   "metadata": {},
   "outputs": [
    {
     "name": "stdout",
     "output_type": "stream",
     "text": [
      "   VIF_Factor   Features\n",
      "0   14.375738  GRE Score\n",
      "1   14.375738        SOP\n"
     ]
    }
   ],
   "source": [
    "for ind in range(len(df_numeric_features_vif.columns)):\n",
    "    vif = pd.DataFrame()\n",
    "    vif[\"VIF_Factor\"] = [variance_inflation_factor(df_numeric_features_vif.values, i) for i in range(df_numeric_features_vif.shape[1])]\n",
    "    vif[\"Features\"] = df_numeric_features_vif.columns\n",
    "    vif.sort_values(\"VIF_Factor\",ascending=False)\n",
    "    multi = vif[vif['VIF_Factor'] > 15]\n",
    "    if(multi.empty == False):\n",
    "        df_sorted = multi.sort_values(by = 'VIF_Factor', ascending = False)\n",
    "    else:\n",
    "        print(vif)\n",
    "        break\n",
    "    if (df_sorted.empty == False):\n",
    "        df_numeric_features_vif = df_numeric_features_vif.drop(df_sorted.Features.iloc[0], axis=1)\n",
    "    else:\n",
    "        print(vif)"
   ]
  },
  {
   "cell_type": "code",
   "execution_count": 556,
   "metadata": {},
   "outputs": [],
   "source": [
    "# Above are the non-multicollinear columns."
   ]
  },
  {
   "cell_type": "markdown",
   "metadata": {},
   "source": [
    "<a id=\"full1\"></a>\n",
    "# 2) Simple full OLS model with rating and research as object"
   ]
  },
  {
   "cell_type": "code",
   "execution_count": 557,
   "metadata": {},
   "outputs": [
    {
     "name": "stdout",
     "output_type": "stream",
     "text": [
      "                            OLS Regression Results                            \n",
      "==============================================================================\n",
      "Dep. Variable:       Chance of Admit    R-squared:                       0.813\n",
      "Model:                            OLS   Adj. R-squared:                  0.807\n",
      "Method:                 Least Squares   F-statistic:                     134.1\n",
      "Date:                Sat, 20 Feb 2021   Prob (F-statistic):          4.54e-106\n",
      "Time:                        08:59:32   Log-Likelihood:                 433.34\n",
      "No. Observations:                 320   AIC:                            -844.7\n",
      "Df Residuals:                     309   BIC:                            -803.2\n",
      "Df Model:                          10                                         \n",
      "Covariance Type:            nonrobust                                         \n",
      "===================================================================================================\n",
      "                                      coef    std err          t      P>|t|      [0.025      0.975]\n",
      "---------------------------------------------------------------------------------------------------\n",
      "const                              -0.7595      0.089     -8.524      0.000      -0.935      -0.584\n",
      "Research_Research Completed        -0.3733      0.047     -7.996      0.000      -0.465      -0.281\n",
      "Research_Research Not Completed    -0.3861      0.043     -9.024      0.000      -0.470      -0.302\n",
      "University Rating_1                -0.1532      0.020     -7.606      0.000      -0.193      -0.114\n",
      "University Rating_2                -0.1647      0.017     -9.449      0.000      -0.199      -0.130\n",
      "University Rating_3                -0.1569      0.019     -8.417      0.000      -0.194      -0.120\n",
      "University Rating_4                -0.1500      0.022     -6.757      0.000      -0.194      -0.106\n",
      "University Rating_5                -0.1347      0.025     -5.424      0.000      -0.184      -0.086\n",
      "GRE Score                           0.0018      0.001      2.631      0.009       0.000       0.003\n",
      "TOEFL Score                         0.0031      0.001      2.483      0.014       0.001       0.006\n",
      "SOP                                -0.0049      0.006     -0.808      0.420      -0.017       0.007\n",
      "LOR                                 0.0238      0.006      3.890      0.000       0.012       0.036\n",
      "CGPA                                0.1229      0.014      8.918      0.000       0.096       0.150\n",
      "==============================================================================\n",
      "Omnibus:                       57.401   Durbin-Watson:                   1.751\n",
      "Prob(Omnibus):                  0.000   Jarque-Bera (JB):              105.654\n",
      "Skew:                          -0.978   Prob(JB):                     1.14e-23\n",
      "Kurtosis:                       5.025   Cond. No.                     4.34e+18\n",
      "==============================================================================\n",
      "\n",
      "Warnings:\n",
      "[1] Standard Errors assume that the covariance matrix of the errors is correctly specified.\n",
      "[2] The smallest eigenvalue is 1.9e-30. This might indicate that there are\n",
      "strong multicollinearity problems or that the design matrix is singular.\n"
     ]
    }
   ],
   "source": [
    "a=df.drop(columns=[\"Chance of Admit \",\"Research\",\"University Rating\"])\n",
    "dummy=pd.get_dummies(df[[\"Research\",\"University Rating\"]])\n",
    "X=pd.concat([dummy,a],axis=1)\n",
    "X=sm.add_constant(X)\n",
    "y=df[\"Chance of Admit \"]\n",
    "X_train, X_test, y_train, y_test = train_test_split(X, y, random_state = 10, test_size = 0.2)\n",
    "\n",
    "full_ols_research_rating_object=sm.OLS(y_train,X_train).fit()\n",
    "print(full_ols_research_rating_object.summary())"
   ]
  },
  {
   "cell_type": "markdown",
   "metadata": {},
   "source": [
    "# Inference for a Simple full OLS model with rating and research as object:\n",
    "\n",
    "##### 1) Model explaind 81.3% variance of the target variable \"Chance of Admit\".\n",
    "##### 2) Durbin-Watson stat is < 2. There is autocorrelation in the data.\n",
    "##### 3) The residual is left-skewed probably due to the target variable being left-skewed.\n",
    "##### 4) Presence of severe multicollinearity.\n",
    "##### 5) significant Variables: University Rating, Research(pvalue<0.05).Keeping rating and research as object."
   ]
  },
  {
   "cell_type": "code",
   "execution_count": 558,
   "metadata": {},
   "outputs": [
    {
     "data": {
      "text/html": [
       "<div>\n",
       "<style scoped>\n",
       "    .dataframe tbody tr th:only-of-type {\n",
       "        vertical-align: middle;\n",
       "    }\n",
       "\n",
       "    .dataframe tbody tr th {\n",
       "        vertical-align: top;\n",
       "    }\n",
       "\n",
       "    .dataframe thead th {\n",
       "        text-align: right;\n",
       "    }\n",
       "</style>\n",
       "<table border=\"1\" class=\"dataframe\">\n",
       "  <thead>\n",
       "    <tr style=\"text-align: right;\">\n",
       "      <th></th>\n",
       "      <th>Model_Name</th>\n",
       "      <th>Alpha</th>\n",
       "      <th>l1-ratio</th>\n",
       "      <th>R-Squared</th>\n",
       "      <th>Adj. R-Squared</th>\n",
       "      <th>Train_RMSE</th>\n",
       "      <th>Test_RMSE</th>\n",
       "      <th>Test_MAPE</th>\n",
       "    </tr>\n",
       "  </thead>\n",
       "  <tbody>\n",
       "    <tr>\n",
       "      <th>0</th>\n",
       "      <td>Simple full OLS model</td>\n",
       "      <td>-</td>\n",
       "      <td>-</td>\n",
       "      <td>0.811496</td>\n",
       "      <td>0.806647</td>\n",
       "      <td>0.0627</td>\n",
       "      <td>0.0662</td>\n",
       "      <td>7.047081</td>\n",
       "    </tr>\n",
       "    <tr>\n",
       "      <th>1</th>\n",
       "      <td>FUll OLS model with rating/research as object</td>\n",
       "      <td>-</td>\n",
       "      <td>-</td>\n",
       "      <td>0.812688</td>\n",
       "      <td>0.804730</td>\n",
       "      <td>0.0625</td>\n",
       "      <td>0.0657</td>\n",
       "      <td>7.028134</td>\n",
       "    </tr>\n",
       "  </tbody>\n",
       "</table>\n",
       "</div>"
      ],
      "text/plain": [
       "                                      Model_Name Alpha l1-ratio  R-Squared  \\\n",
       "0                          Simple full OLS model     -        -   0.811496   \n",
       "1  FUll OLS model with rating/research as object     -        -   0.812688   \n",
       "\n",
       "   Adj. R-Squared  Train_RMSE  Test_RMSE  Test_MAPE  \n",
       "0        0.806647      0.0627     0.0662   7.047081  \n",
       "1        0.804730      0.0625     0.0657   7.028134  "
      ]
     },
     "execution_count": 558,
     "metadata": {},
     "output_type": "execute_result"
    }
   ],
   "source": [
    "linear_reg=LinearRegression()\n",
    "full_linear_regression_1=linear_reg.fit(X_train, y_train)\n",
    "update_score_card(\"FUll OLS model with rating/research as object\",full_linear_regression_1)"
   ]
  },
  {
   "cell_type": "markdown",
   "metadata": {},
   "source": [
    "### Since the model having the reasearch and rating as object did not adversly affect the model performance, going forward we will consider those 2 columns as object."
   ]
  },
  {
   "cell_type": "markdown",
   "metadata": {},
   "source": [
    "<a id=\"full2\"></a>\n",
    "### 3) Model with the only non-multicollinear columns fron vif output. "
   ]
  },
  {
   "cell_type": "code",
   "execution_count": 559,
   "metadata": {},
   "outputs": [
    {
     "name": "stdout",
     "output_type": "stream",
     "text": [
      "                            OLS Regression Results                            \n",
      "==============================================================================\n",
      "Dep. Variable:       Chance of Admit    R-squared:                       0.726\n",
      "Model:                            OLS   Adj. R-squared:                  0.720\n",
      "Method:                 Least Squares   F-statistic:                     117.9\n",
      "Date:                Sat, 20 Feb 2021   Prob (F-statistic):           9.83e-84\n",
      "Time:                        08:59:33   Log-Likelihood:                 372.30\n",
      "No. Observations:                 320   AIC:                            -728.6\n",
      "Df Residuals:                     312   BIC:                            -698.5\n",
      "Df Model:                           7                                         \n",
      "Covariance Type:            nonrobust                                         \n",
      "===================================================================================================\n",
      "                                      coef    std err          t      P>|t|      [0.025      0.975]\n",
      "---------------------------------------------------------------------------------------------------\n",
      "const                              -0.8551      0.107     -8.020      0.000      -1.065      -0.645\n",
      "Research_Research Completed        -0.4204      0.056     -7.519      0.000      -0.530      -0.310\n",
      "Research_Research Not Completed    -0.4347      0.051     -8.495      0.000      -0.535      -0.334\n",
      "University Rating_1                -0.2273      0.023     -9.855      0.000      -0.273      -0.182\n",
      "University Rating_2                -0.2009      0.021     -9.734      0.000      -0.241      -0.160\n",
      "University Rating_3                -0.1762      0.022     -7.890      0.000      -0.220      -0.132\n",
      "University Rating_4                -0.1432      0.027     -5.383      0.000      -0.196      -0.091\n",
      "University Rating_5                -0.1075      0.030     -3.624      0.000      -0.166      -0.049\n",
      "GRE Score                           0.0067      0.001     11.441      0.000       0.006       0.008\n",
      "SOP                                 0.0209      0.006      3.226      0.001       0.008       0.034\n",
      "==============================================================================\n",
      "Omnibus:                       54.443   Durbin-Watson:                   1.729\n",
      "Prob(Omnibus):                  0.000   Jarque-Bera (JB):               86.573\n",
      "Skew:                          -1.007   Prob(JB):                     1.59e-19\n",
      "Kurtosis:                       4.560   Cond. No.                     1.03e+19\n",
      "==============================================================================\n",
      "\n",
      "Warnings:\n",
      "[1] Standard Errors assume that the covariance matrix of the errors is correctly specified.\n",
      "[2] The smallest eigenvalue is 3.01e-31. This might indicate that there are\n",
      "strong multicollinearity problems or that the design matrix is singular.\n"
     ]
    }
   ],
   "source": [
    "a=df[[\"GRE Score\",\"SOP\"]]\n",
    "dummy=pd.get_dummies(df[[\"Research\",\"University Rating\"]])\n",
    "X=pd.concat([dummy,a],axis=1)\n",
    "X=sm.add_constant(X)\n",
    "y=df[\"Chance of Admit \"]\n",
    "X_train, X_test, y_train, y_test = train_test_split(X, y, random_state = 10, test_size = 0.2)\n",
    "\n",
    "full_ols_research_rating_object=sm.OLS(y_train,X_train).fit()\n",
    "print(full_ols_research_rating_object.summary())"
   ]
  },
  {
   "cell_type": "code",
   "execution_count": 560,
   "metadata": {},
   "outputs": [
    {
     "data": {
      "text/html": [
       "<div>\n",
       "<style scoped>\n",
       "    .dataframe tbody tr th:only-of-type {\n",
       "        vertical-align: middle;\n",
       "    }\n",
       "\n",
       "    .dataframe tbody tr th {\n",
       "        vertical-align: top;\n",
       "    }\n",
       "\n",
       "    .dataframe thead th {\n",
       "        text-align: right;\n",
       "    }\n",
       "</style>\n",
       "<table border=\"1\" class=\"dataframe\">\n",
       "  <thead>\n",
       "    <tr style=\"text-align: right;\">\n",
       "      <th></th>\n",
       "      <th>Model_Name</th>\n",
       "      <th>Alpha</th>\n",
       "      <th>l1-ratio</th>\n",
       "      <th>R-Squared</th>\n",
       "      <th>Adj. R-Squared</th>\n",
       "      <th>Train_RMSE</th>\n",
       "      <th>Test_RMSE</th>\n",
       "      <th>Test_MAPE</th>\n",
       "    </tr>\n",
       "  </thead>\n",
       "  <tbody>\n",
       "    <tr>\n",
       "      <th>0</th>\n",
       "      <td>Simple full OLS model</td>\n",
       "      <td>-</td>\n",
       "      <td>-</td>\n",
       "      <td>0.811496</td>\n",
       "      <td>0.806647</td>\n",
       "      <td>0.0627</td>\n",
       "      <td>0.0662</td>\n",
       "      <td>7.047081</td>\n",
       "    </tr>\n",
       "    <tr>\n",
       "      <th>1</th>\n",
       "      <td>FUll OLS model with rating/research as object</td>\n",
       "      <td>-</td>\n",
       "      <td>-</td>\n",
       "      <td>0.812688</td>\n",
       "      <td>0.804730</td>\n",
       "      <td>0.0625</td>\n",
       "      <td>0.0657</td>\n",
       "      <td>7.028134</td>\n",
       "    </tr>\n",
       "    <tr>\n",
       "      <th>2</th>\n",
       "      <td>OLS model only with non-multicollinear varibales</td>\n",
       "      <td>-</td>\n",
       "      <td>-</td>\n",
       "      <td>0.725694</td>\n",
       "      <td>0.716817</td>\n",
       "      <td>0.0756</td>\n",
       "      <td>0.0758</td>\n",
       "      <td>8.308502</td>\n",
       "    </tr>\n",
       "  </tbody>\n",
       "</table>\n",
       "</div>"
      ],
      "text/plain": [
       "                                         Model_Name Alpha l1-ratio  R-Squared  \\\n",
       "0                             Simple full OLS model     -        -   0.811496   \n",
       "1     FUll OLS model with rating/research as object     -        -   0.812688   \n",
       "2  OLS model only with non-multicollinear varibales     -        -   0.725694   \n",
       "\n",
       "   Adj. R-Squared  Train_RMSE  Test_RMSE  Test_MAPE  \n",
       "0        0.806647      0.0627     0.0662   7.047081  \n",
       "1        0.804730      0.0625     0.0657   7.028134  \n",
       "2        0.716817      0.0756     0.0758   8.308502  "
      ]
     },
     "execution_count": 560,
     "metadata": {},
     "output_type": "execute_result"
    }
   ],
   "source": [
    "linear_reg=LinearRegression()\n",
    "full_linear_regression_2=linear_reg.fit(X_train, y_train)\n",
    "update_score_card(\"OLS model only with non-multicollinear varibales\",full_linear_regression_2)"
   ]
  },
  {
   "cell_type": "markdown",
   "metadata": {},
   "source": [
    "### Looks like the medel performance is reduced as there are only 2 numerical varibales."
   ]
  },
  {
   "cell_type": "markdown",
   "metadata": {},
   "source": [
    "<a id=\"full4\"></a>\n",
    "# 4) OLS full model with dependent log transformed"
   ]
  },
  {
   "cell_type": "code",
   "execution_count": 561,
   "metadata": {},
   "outputs": [],
   "source": [
    "# Since the target variable is not normal, we can try transforming it into normal and look into model performance."
   ]
  },
  {
   "cell_type": "code",
   "execution_count": 562,
   "metadata": {},
   "outputs": [
    {
     "name": "stdout",
     "output_type": "stream",
     "text": [
      "                            OLS Regression Results                            \n",
      "==============================================================================\n",
      "Dep. Variable:       Chance of Admit    R-squared:                       0.751\n",
      "Model:                            OLS   Adj. R-squared:                  0.745\n",
      "Method:                 Least Squares   F-statistic:                     134.4\n",
      "Date:                Sat, 20 Feb 2021   Prob (F-statistic):           3.03e-90\n",
      "Time:                        08:59:33   Log-Likelihood:                 255.84\n",
      "No. Observations:                 320   AIC:                            -495.7\n",
      "Df Residuals:                     312   BIC:                            -465.5\n",
      "Df Model:                           7                                         \n",
      "Covariance Type:            nonrobust                                         \n",
      "=====================================================================================\n",
      "                        coef    std err          t      P>|t|      [0.025      0.975]\n",
      "-------------------------------------------------------------------------------------\n",
      "const                -3.3714      0.249    -13.549      0.000      -3.861      -2.882\n",
      "GRE Score             0.0024      0.001      2.042      0.042     8.7e-05       0.005\n",
      "TOEFL Score           0.0048      0.002      2.252      0.025       0.001       0.009\n",
      "University Rating     0.0037      0.010      0.381      0.703      -0.015       0.023\n",
      "SOP                  -0.0131      0.011     -1.244      0.215      -0.034       0.008\n",
      "LOR                   0.0407      0.011      3.848      0.000       0.020       0.061\n",
      "CGPA                  0.1901      0.024      7.962      0.000       0.143       0.237\n",
      "Research              0.0167      0.016      1.053      0.293      -0.014       0.048\n",
      "==============================================================================\n",
      "Omnibus:                       92.127   Durbin-Watson:                   1.723\n",
      "Prob(Omnibus):                  0.000   Jarque-Bera (JB):              239.113\n",
      "Skew:                          -1.355   Prob(JB):                     1.19e-52\n",
      "Kurtosis:                       6.255   Cond. No.                     1.35e+04\n",
      "==============================================================================\n",
      "\n",
      "Warnings:\n",
      "[1] Standard Errors assume that the covariance matrix of the errors is correctly specified.\n",
      "[2] The condition number is large, 1.35e+04. This might indicate that there are\n",
      "strong multicollinearity or other numerical problems.\n"
     ]
    }
   ],
   "source": [
    "X=df_admission.drop(columns=[\"Chance of Admit \"])\n",
    "X=sm.add_constant(X)\n",
    "y=np.log(df_admission[\"Chance of Admit \"])\n",
    "X_train, X_test, y_train, y_test = train_test_split(X, y, random_state = 10, test_size = 0.2)\n",
    "\n",
    "full_ols_dependent_log=sm.OLS(y_train,X_train).fit()\n",
    "print(full_ols_dependent_log.summary())"
   ]
  },
  {
   "cell_type": "code",
   "execution_count": 563,
   "metadata": {},
   "outputs": [
    {
     "data": {
      "text/html": [
       "<div>\n",
       "<style scoped>\n",
       "    .dataframe tbody tr th:only-of-type {\n",
       "        vertical-align: middle;\n",
       "    }\n",
       "\n",
       "    .dataframe tbody tr th {\n",
       "        vertical-align: top;\n",
       "    }\n",
       "\n",
       "    .dataframe thead th {\n",
       "        text-align: right;\n",
       "    }\n",
       "</style>\n",
       "<table border=\"1\" class=\"dataframe\">\n",
       "  <thead>\n",
       "    <tr style=\"text-align: right;\">\n",
       "      <th></th>\n",
       "      <th>Model_Name</th>\n",
       "      <th>Alpha</th>\n",
       "      <th>l1-ratio</th>\n",
       "      <th>R-Squared</th>\n",
       "      <th>Adj. R-Squared</th>\n",
       "      <th>Train_RMSE</th>\n",
       "      <th>Test_RMSE</th>\n",
       "      <th>Test_MAPE</th>\n",
       "    </tr>\n",
       "  </thead>\n",
       "  <tbody>\n",
       "    <tr>\n",
       "      <th>0</th>\n",
       "      <td>Simple full OLS model</td>\n",
       "      <td>-</td>\n",
       "      <td>-</td>\n",
       "      <td>0.811496</td>\n",
       "      <td>0.806647</td>\n",
       "      <td>0.0627</td>\n",
       "      <td>0.0662</td>\n",
       "      <td>7.047081</td>\n",
       "    </tr>\n",
       "    <tr>\n",
       "      <th>1</th>\n",
       "      <td>FUll OLS model with rating/research as object</td>\n",
       "      <td>-</td>\n",
       "      <td>-</td>\n",
       "      <td>0.812688</td>\n",
       "      <td>0.804730</td>\n",
       "      <td>0.0625</td>\n",
       "      <td>0.0657</td>\n",
       "      <td>7.028134</td>\n",
       "    </tr>\n",
       "    <tr>\n",
       "      <th>2</th>\n",
       "      <td>OLS model only with non-multicollinear varibales</td>\n",
       "      <td>-</td>\n",
       "      <td>-</td>\n",
       "      <td>0.725694</td>\n",
       "      <td>0.716817</td>\n",
       "      <td>0.0756</td>\n",
       "      <td>0.0758</td>\n",
       "      <td>8.308502</td>\n",
       "    </tr>\n",
       "    <tr>\n",
       "      <th>3</th>\n",
       "      <td>OLS full model with dependent log transformed</td>\n",
       "      <td>-</td>\n",
       "      <td>-</td>\n",
       "      <td>0.750962</td>\n",
       "      <td>0.744556</td>\n",
       "      <td>0.1088</td>\n",
       "      <td>0.1058</td>\n",
       "      <td>23.663697</td>\n",
       "    </tr>\n",
       "  </tbody>\n",
       "</table>\n",
       "</div>"
      ],
      "text/plain": [
       "                                         Model_Name Alpha l1-ratio  R-Squared  \\\n",
       "0                             Simple full OLS model     -        -   0.811496   \n",
       "1     FUll OLS model with rating/research as object     -        -   0.812688   \n",
       "2  OLS model only with non-multicollinear varibales     -        -   0.725694   \n",
       "3     OLS full model with dependent log transformed     -        -   0.750962   \n",
       "\n",
       "   Adj. R-Squared  Train_RMSE  Test_RMSE  Test_MAPE  \n",
       "0        0.806647      0.0627     0.0662   7.047081  \n",
       "1        0.804730      0.0625     0.0657   7.028134  \n",
       "2        0.716817      0.0756     0.0758   8.308502  \n",
       "3        0.744556      0.1088     0.1058  23.663697  "
      ]
     },
     "execution_count": 563,
     "metadata": {},
     "output_type": "execute_result"
    }
   ],
   "source": [
    "linear_reg=LinearRegression()\n",
    "full_linear_regression_3=linear_reg.fit(X_train, y_train)\n",
    "update_score_card(\"OLS full model with dependent log transformed\",full_linear_regression_3)"
   ]
  },
  {
   "cell_type": "markdown",
   "metadata": {},
   "source": [
    "### With the target variable being log transformed, we get reduced model performance. Not recommended to use."
   ]
  },
  {
   "cell_type": "markdown",
   "metadata": {},
   "source": [
    "<a id=\"full5\"></a>\n",
    "# 5) OLS full model with both X&y log transformed"
   ]
  },
  {
   "cell_type": "code",
   "execution_count": 564,
   "metadata": {},
   "outputs": [],
   "source": [
    "# Since all the independent and target varibles are not normal, we can try using transformationa and see if it increases performance."
   ]
  },
  {
   "cell_type": "code",
   "execution_count": 565,
   "metadata": {},
   "outputs": [
    {
     "name": "stdout",
     "output_type": "stream",
     "text": [
      "                            OLS Regression Results                            \n",
      "==============================================================================\n",
      "Dep. Variable:       Chance of Admit    R-squared:                       0.757\n",
      "Model:                            OLS   Adj. R-squared:                  0.750\n",
      "Method:                 Least Squares   F-statistic:                     96.50\n",
      "Date:                Sat, 20 Feb 2021   Prob (F-statistic):           7.45e-89\n",
      "Time:                        08:59:33   Log-Likelihood:                 260.07\n",
      "No. Observations:                 320   AIC:                            -498.1\n",
      "Df Residuals:                     309   BIC:                            -456.7\n",
      "Df Model:                          10                                         \n",
      "Covariance Type:            nonrobust                                         \n",
      "===================================================================================================\n",
      "                                      coef    std err          t      P>|t|      [0.025      0.975]\n",
      "---------------------------------------------------------------------------------------------------\n",
      "const                              -6.4184      0.992     -6.471      0.000      -8.370      -4.467\n",
      "Research_Research Completed        -3.2018      0.499     -6.418      0.000      -4.183      -2.220\n",
      "Research_Research Not Completed    -3.2166      0.493     -6.524      0.000      -4.187      -2.246\n",
      "University Rating_1                -1.2727      0.197     -6.456      0.000      -1.661      -0.885\n",
      "University Rating_2                -1.2955      0.197     -6.585      0.000      -1.683      -0.908\n",
      "University Rating_3                -1.2805      0.198     -6.461      0.000      -1.671      -0.891\n",
      "University Rating_4                -1.2890      0.201     -6.412      0.000      -1.685      -0.893\n",
      "University Rating_5                -1.2806      0.203     -6.308      0.000      -1.680      -0.881\n",
      "GRE Score                           0.7751      0.364      2.131      0.034       0.059       1.491\n",
      "TOEFL Score                         0.5372      0.228      2.354      0.019       0.088       0.986\n",
      "SOP                                -0.0251      0.030     -0.850      0.396      -0.083       0.033\n",
      "LOR                                 0.1240      0.032      3.834      0.000       0.060       0.188\n",
      "CGPA                                1.6180      0.197      8.207      0.000       1.230       2.006\n",
      "==============================================================================\n",
      "Omnibus:                       95.083   Durbin-Watson:                   1.725\n",
      "Prob(Omnibus):                  0.000   Jarque-Bera (JB):              270.556\n",
      "Skew:                          -1.357   Prob(JB):                     1.78e-59\n",
      "Kurtosis:                       6.595   Cond. No.                     9.54e+16\n",
      "==============================================================================\n",
      "\n",
      "Warnings:\n",
      "[1] Standard Errors assume that the covariance matrix of the errors is correctly specified.\n",
      "[2] The smallest eigenvalue is 2.26e-30. This might indicate that there are\n",
      "strong multicollinearity problems or that the design matrix is singular.\n"
     ]
    }
   ],
   "source": [
    "a=df_admission.drop(columns=[\"Chance of Admit \",\"Research\",\"University Rating\"])\n",
    "b=np.log(a)\n",
    "dummy=pd.get_dummies(df[[\"Research\",\"University Rating\"]])\n",
    "X=pd.concat([dummy,b],axis=1)\n",
    "X=sm.add_constant(X)\n",
    "y=np.log(df_admission[\"Chance of Admit \"])\n",
    "X_train, X_test, y_train, y_test = train_test_split(X, y, random_state = 10, test_size = 0.2)\n",
    "\n",
    "full_ols_both_log=sm.OLS(y_train,X_train).fit()\n",
    "print(full_ols_both_log.summary())"
   ]
  },
  {
   "cell_type": "code",
   "execution_count": 566,
   "metadata": {},
   "outputs": [
    {
     "data": {
      "text/html": [
       "<div>\n",
       "<style scoped>\n",
       "    .dataframe tbody tr th:only-of-type {\n",
       "        vertical-align: middle;\n",
       "    }\n",
       "\n",
       "    .dataframe tbody tr th {\n",
       "        vertical-align: top;\n",
       "    }\n",
       "\n",
       "    .dataframe thead th {\n",
       "        text-align: right;\n",
       "    }\n",
       "</style>\n",
       "<table border=\"1\" class=\"dataframe\">\n",
       "  <thead>\n",
       "    <tr style=\"text-align: right;\">\n",
       "      <th></th>\n",
       "      <th>Model_Name</th>\n",
       "      <th>Alpha</th>\n",
       "      <th>l1-ratio</th>\n",
       "      <th>R-Squared</th>\n",
       "      <th>Adj. R-Squared</th>\n",
       "      <th>Train_RMSE</th>\n",
       "      <th>Test_RMSE</th>\n",
       "      <th>Test_MAPE</th>\n",
       "    </tr>\n",
       "  </thead>\n",
       "  <tbody>\n",
       "    <tr>\n",
       "      <th>0</th>\n",
       "      <td>Simple full OLS model</td>\n",
       "      <td>-</td>\n",
       "      <td>-</td>\n",
       "      <td>0.811496</td>\n",
       "      <td>0.806647</td>\n",
       "      <td>0.0627</td>\n",
       "      <td>0.0662</td>\n",
       "      <td>7.047081</td>\n",
       "    </tr>\n",
       "    <tr>\n",
       "      <th>1</th>\n",
       "      <td>FUll OLS model with rating/research as object</td>\n",
       "      <td>-</td>\n",
       "      <td>-</td>\n",
       "      <td>0.812688</td>\n",
       "      <td>0.804730</td>\n",
       "      <td>0.0625</td>\n",
       "      <td>0.0657</td>\n",
       "      <td>7.028134</td>\n",
       "    </tr>\n",
       "    <tr>\n",
       "      <th>2</th>\n",
       "      <td>OLS model only with non-multicollinear varibales</td>\n",
       "      <td>-</td>\n",
       "      <td>-</td>\n",
       "      <td>0.725694</td>\n",
       "      <td>0.716817</td>\n",
       "      <td>0.0756</td>\n",
       "      <td>0.0758</td>\n",
       "      <td>8.308502</td>\n",
       "    </tr>\n",
       "    <tr>\n",
       "      <th>3</th>\n",
       "      <td>OLS full model with dependent log transformed</td>\n",
       "      <td>-</td>\n",
       "      <td>-</td>\n",
       "      <td>0.750962</td>\n",
       "      <td>0.744556</td>\n",
       "      <td>0.1088</td>\n",
       "      <td>0.1058</td>\n",
       "      <td>23.663697</td>\n",
       "    </tr>\n",
       "    <tr>\n",
       "      <th>4</th>\n",
       "      <td>OLS full model with both X&amp;y log transformed</td>\n",
       "      <td>-</td>\n",
       "      <td>-</td>\n",
       "      <td>0.757336</td>\n",
       "      <td>0.747026</td>\n",
       "      <td>0.1074</td>\n",
       "      <td>0.1050</td>\n",
       "      <td>21.826369</td>\n",
       "    </tr>\n",
       "  </tbody>\n",
       "</table>\n",
       "</div>"
      ],
      "text/plain": [
       "                                         Model_Name Alpha l1-ratio  R-Squared  \\\n",
       "0                             Simple full OLS model     -        -   0.811496   \n",
       "1     FUll OLS model with rating/research as object     -        -   0.812688   \n",
       "2  OLS model only with non-multicollinear varibales     -        -   0.725694   \n",
       "3     OLS full model with dependent log transformed     -        -   0.750962   \n",
       "4      OLS full model with both X&y log transformed     -        -   0.757336   \n",
       "\n",
       "   Adj. R-Squared  Train_RMSE  Test_RMSE  Test_MAPE  \n",
       "0        0.806647      0.0627     0.0662   7.047081  \n",
       "1        0.804730      0.0625     0.0657   7.028134  \n",
       "2        0.716817      0.0756     0.0758   8.308502  \n",
       "3        0.744556      0.1088     0.1058  23.663697  \n",
       "4        0.747026      0.1074     0.1050  21.826369  "
      ]
     },
     "execution_count": 566,
     "metadata": {},
     "output_type": "execute_result"
    }
   ],
   "source": [
    "linear_reg=LinearRegression()\n",
    "full_linear_regression_4=linear_reg.fit(X_train, y_train)\n",
    "update_score_card(\"OLS full model with both X&y log transformed\",full_linear_regression_4)"
   ]
  },
  {
   "cell_type": "markdown",
   "metadata": {},
   "source": [
    "# With the target variable being log transformed, we get reduced model performance. Not recommended to use transformation on any of the variables."
   ]
  },
  {
   "cell_type": "markdown",
   "metadata": {},
   "source": [
    "<a id=\"full6\"></a>\n",
    "# 6) Model with interaction effect between SOP and LOR"
   ]
  },
  {
   "cell_type": "code",
   "execution_count": 567,
   "metadata": {},
   "outputs": [
    {
     "name": "stdout",
     "output_type": "stream",
     "text": [
      "                            OLS Regression Results                            \n",
      "==============================================================================\n",
      "Dep. Variable:       Chance of Admit    R-squared:                       0.811\n",
      "Model:                            OLS   Adj. R-squared:                  0.807\n",
      "Method:                 Least Squares   F-statistic:                     191.9\n",
      "Date:                Sat, 20 Feb 2021   Prob (F-statistic):          4.99e-109\n",
      "Time:                        08:59:33   Log-Likelihood:                 432.32\n",
      "No. Observations:                 320   AIC:                            -848.6\n",
      "Df Residuals:                     312   BIC:                            -818.5\n",
      "Df Model:                           7                                         \n",
      "Covariance Type:            nonrobust                                         \n",
      "=====================================================================================\n",
      "                        coef    std err          t      P>|t|      [0.025      0.975]\n",
      "-------------------------------------------------------------------------------------\n",
      "const                -1.3226      0.143     -9.227      0.000      -1.605      -1.041\n",
      "GRE Score             0.0018      0.001      2.701      0.007       0.000       0.003\n",
      "TOEFL Score           0.0030      0.001      2.435      0.015       0.001       0.005\n",
      "University Rating     0.0076      0.006      1.373      0.171      -0.003       0.019\n",
      "SOP                  -0.0113      0.005     -2.167      0.031      -0.022      -0.001\n",
      "LOR                   0.0174      0.005      3.331      0.001       0.007       0.028\n",
      "CGPA                  0.1225      0.014      8.902      0.000       0.095       0.150\n",
      "Research              0.0131      0.009      1.436      0.152      -0.005       0.031\n",
      "SOP_LOR               0.0061      0.002      2.764      0.006       0.002       0.010\n",
      "==============================================================================\n",
      "Omnibus:                       62.774   Durbin-Watson:                   1.738\n",
      "Prob(Omnibus):                  0.000   Jarque-Bera (JB):              119.445\n",
      "Skew:                          -1.047   Prob(JB):                     1.16e-26\n",
      "Kurtosis:                       5.138   Cond. No.                     4.65e+17\n",
      "==============================================================================\n",
      "\n",
      "Warnings:\n",
      "[1] Standard Errors assume that the covariance matrix of the errors is correctly specified.\n",
      "[2] The smallest eigenvalue is 1.66e-28. This might indicate that there are\n",
      "strong multicollinearity problems or that the design matrix is singular.\n"
     ]
    }
   ],
   "source": [
    "df_admission[\"SOP_LOR\"]=df_admission[\"SOP\"]+df_admission[\"LOR \"]\n",
    "X=df_admission.drop(columns=[\"Chance of Admit \"])\n",
    "X=sm.add_constant(X)\n",
    "y=df_admission[\"Chance of Admit \"]\n",
    "X_train, X_test, y_train, y_test = train_test_split(X, y, random_state = 10, test_size = 0.2)\n",
    "OLS_interaction=sm.OLS(y_train,X_train).fit()\n",
    "print(OLS_interaction.summary())"
   ]
  },
  {
   "cell_type": "markdown",
   "metadata": {},
   "source": [
    "<a id=\"full7\"></a>\n",
    "# 7) Model with interaction effect between SOP/LOR and GRE/TOEFL"
   ]
  },
  {
   "cell_type": "code",
   "execution_count": 568,
   "metadata": {},
   "outputs": [
    {
     "data": {
      "text/html": [
       "<div>\n",
       "<style scoped>\n",
       "    .dataframe tbody tr th:only-of-type {\n",
       "        vertical-align: middle;\n",
       "    }\n",
       "\n",
       "    .dataframe tbody tr th {\n",
       "        vertical-align: top;\n",
       "    }\n",
       "\n",
       "    .dataframe thead th {\n",
       "        text-align: right;\n",
       "    }\n",
       "</style>\n",
       "<table border=\"1\" class=\"dataframe\">\n",
       "  <thead>\n",
       "    <tr style=\"text-align: right;\">\n",
       "      <th></th>\n",
       "      <th>Model_Name</th>\n",
       "      <th>Alpha</th>\n",
       "      <th>l1-ratio</th>\n",
       "      <th>R-Squared</th>\n",
       "      <th>Adj. R-Squared</th>\n",
       "      <th>Train_RMSE</th>\n",
       "      <th>Test_RMSE</th>\n",
       "      <th>Test_MAPE</th>\n",
       "    </tr>\n",
       "  </thead>\n",
       "  <tbody>\n",
       "    <tr>\n",
       "      <th>0</th>\n",
       "      <td>Simple full OLS model</td>\n",
       "      <td>-</td>\n",
       "      <td>-</td>\n",
       "      <td>0.811496</td>\n",
       "      <td>0.806647</td>\n",
       "      <td>0.0627</td>\n",
       "      <td>0.0662</td>\n",
       "      <td>7.047081</td>\n",
       "    </tr>\n",
       "    <tr>\n",
       "      <th>1</th>\n",
       "      <td>FUll OLS model with rating/research as object</td>\n",
       "      <td>-</td>\n",
       "      <td>-</td>\n",
       "      <td>0.812688</td>\n",
       "      <td>0.804730</td>\n",
       "      <td>0.0625</td>\n",
       "      <td>0.0657</td>\n",
       "      <td>7.028134</td>\n",
       "    </tr>\n",
       "    <tr>\n",
       "      <th>2</th>\n",
       "      <td>OLS model only with non-multicollinear varibales</td>\n",
       "      <td>-</td>\n",
       "      <td>-</td>\n",
       "      <td>0.725694</td>\n",
       "      <td>0.716817</td>\n",
       "      <td>0.0756</td>\n",
       "      <td>0.0758</td>\n",
       "      <td>8.308502</td>\n",
       "    </tr>\n",
       "    <tr>\n",
       "      <th>3</th>\n",
       "      <td>OLS full model with dependent log transformed</td>\n",
       "      <td>-</td>\n",
       "      <td>-</td>\n",
       "      <td>0.750962</td>\n",
       "      <td>0.744556</td>\n",
       "      <td>0.1088</td>\n",
       "      <td>0.1058</td>\n",
       "      <td>23.663697</td>\n",
       "    </tr>\n",
       "    <tr>\n",
       "      <th>4</th>\n",
       "      <td>OLS full model with both X&amp;y log transformed</td>\n",
       "      <td>-</td>\n",
       "      <td>-</td>\n",
       "      <td>0.757336</td>\n",
       "      <td>0.747026</td>\n",
       "      <td>0.1074</td>\n",
       "      <td>0.1050</td>\n",
       "      <td>21.826369</td>\n",
       "    </tr>\n",
       "    <tr>\n",
       "      <th>5</th>\n",
       "      <td>Interaction MOdel between SOP and LOR</td>\n",
       "      <td>-</td>\n",
       "      <td>-</td>\n",
       "      <td>0.811496</td>\n",
       "      <td>0.806023</td>\n",
       "      <td>0.0627</td>\n",
       "      <td>0.0662</td>\n",
       "      <td>7.047081</td>\n",
       "    </tr>\n",
       "  </tbody>\n",
       "</table>\n",
       "</div>"
      ],
      "text/plain": [
       "                                         Model_Name Alpha l1-ratio  R-Squared  \\\n",
       "0                             Simple full OLS model     -        -   0.811496   \n",
       "1     FUll OLS model with rating/research as object     -        -   0.812688   \n",
       "2  OLS model only with non-multicollinear varibales     -        -   0.725694   \n",
       "3     OLS full model with dependent log transformed     -        -   0.750962   \n",
       "4      OLS full model with both X&y log transformed     -        -   0.757336   \n",
       "5             Interaction MOdel between SOP and LOR     -        -   0.811496   \n",
       "\n",
       "   Adj. R-Squared  Train_RMSE  Test_RMSE  Test_MAPE  \n",
       "0        0.806647      0.0627     0.0662   7.047081  \n",
       "1        0.804730      0.0625     0.0657   7.028134  \n",
       "2        0.716817      0.0756     0.0758   8.308502  \n",
       "3        0.744556      0.1088     0.1058  23.663697  \n",
       "4        0.747026      0.1074     0.1050  21.826369  \n",
       "5        0.806023      0.0627     0.0662   7.047081  "
      ]
     },
     "execution_count": 568,
     "metadata": {},
     "output_type": "execute_result"
    }
   ],
   "source": [
    "linear_reg=LinearRegression()\n",
    "full_linear_regression_5=linear_reg.fit(X_train, y_train)\n",
    "update_score_card(\"Interaction MOdel between SOP and LOR\",full_linear_regression_5)"
   ]
  },
  {
   "cell_type": "code",
   "execution_count": 569,
   "metadata": {},
   "outputs": [
    {
     "name": "stdout",
     "output_type": "stream",
     "text": [
      "                            OLS Regression Results                            \n",
      "==============================================================================\n",
      "Dep. Variable:       Chance of Admit    R-squared:                       0.811\n",
      "Model:                            OLS   Adj. R-squared:                  0.807\n",
      "Method:                 Least Squares   F-statistic:                     191.9\n",
      "Date:                Sat, 20 Feb 2021   Prob (F-statistic):          4.99e-109\n",
      "Time:                        08:59:33   Log-Likelihood:                 432.32\n",
      "No. Observations:                 320   AIC:                            -848.6\n",
      "Df Residuals:                     312   BIC:                            -818.5\n",
      "Df Model:                           7                                         \n",
      "Covariance Type:            nonrobust                                         \n",
      "=====================================================================================\n",
      "                        coef    std err          t      P>|t|      [0.025      0.975]\n",
      "-------------------------------------------------------------------------------------\n",
      "const                -1.3226      0.143     -9.227      0.000      -1.605      -1.041\n",
      "GRE Score             0.0002      0.001      0.295      0.768      -0.001       0.002\n",
      "TOEFL Score           0.0014      0.001      1.487      0.138      -0.000       0.003\n",
      "University Rating     0.0076      0.006      1.373      0.171      -0.003       0.019\n",
      "SOP                  -0.0113      0.005     -2.167      0.031      -0.022      -0.001\n",
      "LOR                   0.0174      0.005      3.331      0.001       0.007       0.028\n",
      "CGPA                  0.1225      0.014      8.902      0.000       0.095       0.150\n",
      "Research              0.0131      0.009      1.436      0.152      -0.005       0.031\n",
      "SOP_LOR               0.0061      0.002      2.764      0.006       0.002       0.010\n",
      "GRE_TOEFL             0.0016      0.000      4.251      0.000       0.001       0.002\n",
      "==============================================================================\n",
      "Omnibus:                       62.774   Durbin-Watson:                   1.738\n",
      "Prob(Omnibus):                  0.000   Jarque-Bera (JB):              119.445\n",
      "Skew:                          -1.047   Prob(JB):                     1.16e-26\n",
      "Kurtosis:                       5.138   Cond. No.                     1.01e+18\n",
      "==============================================================================\n",
      "\n",
      "Warnings:\n",
      "[1] Standard Errors assume that the covariance matrix of the errors is correctly specified.\n",
      "[2] The smallest eigenvalue is 9.17e-29. This might indicate that there are\n",
      "strong multicollinearity problems or that the design matrix is singular.\n"
     ]
    }
   ],
   "source": [
    "df_admission[\"SOP_LOR\"]=df_admission[\"SOP\"]+df_admission[\"LOR \"]\n",
    "df_admission[\"GRE_TOEFL\"]=df_admission[\"GRE Score\"]+df_admission[\"TOEFL Score\"]\n",
    "X=df_admission.drop(columns=[\"Chance of Admit \"])\n",
    "X=sm.add_constant(X)\n",
    "y=df_admission[\"Chance of Admit \"]\n",
    "X_train, X_test, y_train, y_test = train_test_split(X, y, random_state = 10, test_size = 0.2)\n",
    "OLS_interaction=sm.OLS(y_train,X_train).fit()\n",
    "print(OLS_interaction.summary())"
   ]
  },
  {
   "cell_type": "code",
   "execution_count": 570,
   "metadata": {},
   "outputs": [
    {
     "data": {
      "text/html": [
       "<div>\n",
       "<style scoped>\n",
       "    .dataframe tbody tr th:only-of-type {\n",
       "        vertical-align: middle;\n",
       "    }\n",
       "\n",
       "    .dataframe tbody tr th {\n",
       "        vertical-align: top;\n",
       "    }\n",
       "\n",
       "    .dataframe thead th {\n",
       "        text-align: right;\n",
       "    }\n",
       "</style>\n",
       "<table border=\"1\" class=\"dataframe\">\n",
       "  <thead>\n",
       "    <tr style=\"text-align: right;\">\n",
       "      <th></th>\n",
       "      <th>Model_Name</th>\n",
       "      <th>Alpha</th>\n",
       "      <th>l1-ratio</th>\n",
       "      <th>R-Squared</th>\n",
       "      <th>Adj. R-Squared</th>\n",
       "      <th>Train_RMSE</th>\n",
       "      <th>Test_RMSE</th>\n",
       "      <th>Test_MAPE</th>\n",
       "    </tr>\n",
       "  </thead>\n",
       "  <tbody>\n",
       "    <tr>\n",
       "      <th>0</th>\n",
       "      <td>Simple full OLS model</td>\n",
       "      <td>-</td>\n",
       "      <td>-</td>\n",
       "      <td>0.811496</td>\n",
       "      <td>0.806647</td>\n",
       "      <td>0.0627</td>\n",
       "      <td>0.0662</td>\n",
       "      <td>7.047081</td>\n",
       "    </tr>\n",
       "    <tr>\n",
       "      <th>1</th>\n",
       "      <td>FUll OLS model with rating/research as object</td>\n",
       "      <td>-</td>\n",
       "      <td>-</td>\n",
       "      <td>0.812688</td>\n",
       "      <td>0.804730</td>\n",
       "      <td>0.0625</td>\n",
       "      <td>0.0657</td>\n",
       "      <td>7.028134</td>\n",
       "    </tr>\n",
       "    <tr>\n",
       "      <th>2</th>\n",
       "      <td>OLS model only with non-multicollinear varibales</td>\n",
       "      <td>-</td>\n",
       "      <td>-</td>\n",
       "      <td>0.725694</td>\n",
       "      <td>0.716817</td>\n",
       "      <td>0.0756</td>\n",
       "      <td>0.0758</td>\n",
       "      <td>8.308502</td>\n",
       "    </tr>\n",
       "    <tr>\n",
       "      <th>3</th>\n",
       "      <td>OLS full model with dependent log transformed</td>\n",
       "      <td>-</td>\n",
       "      <td>-</td>\n",
       "      <td>0.750962</td>\n",
       "      <td>0.744556</td>\n",
       "      <td>0.1088</td>\n",
       "      <td>0.1058</td>\n",
       "      <td>23.663697</td>\n",
       "    </tr>\n",
       "    <tr>\n",
       "      <th>4</th>\n",
       "      <td>OLS full model with both X&amp;y log transformed</td>\n",
       "      <td>-</td>\n",
       "      <td>-</td>\n",
       "      <td>0.757336</td>\n",
       "      <td>0.747026</td>\n",
       "      <td>0.1074</td>\n",
       "      <td>0.1050</td>\n",
       "      <td>21.826369</td>\n",
       "    </tr>\n",
       "    <tr>\n",
       "      <th>5</th>\n",
       "      <td>Interaction MOdel between SOP and LOR</td>\n",
       "      <td>-</td>\n",
       "      <td>-</td>\n",
       "      <td>0.811496</td>\n",
       "      <td>0.806023</td>\n",
       "      <td>0.0627</td>\n",
       "      <td>0.0662</td>\n",
       "      <td>7.047081</td>\n",
       "    </tr>\n",
       "    <tr>\n",
       "      <th>6</th>\n",
       "      <td>Interaction between SOP/LOR &amp; GRE/TOEFL</td>\n",
       "      <td>-</td>\n",
       "      <td>-</td>\n",
       "      <td>0.811414</td>\n",
       "      <td>0.805311</td>\n",
       "      <td>0.0627</td>\n",
       "      <td>0.0662</td>\n",
       "      <td>7.049426</td>\n",
       "    </tr>\n",
       "  </tbody>\n",
       "</table>\n",
       "</div>"
      ],
      "text/plain": [
       "                                         Model_Name Alpha l1-ratio  R-Squared  \\\n",
       "0                             Simple full OLS model     -        -   0.811496   \n",
       "1     FUll OLS model with rating/research as object     -        -   0.812688   \n",
       "2  OLS model only with non-multicollinear varibales     -        -   0.725694   \n",
       "3     OLS full model with dependent log transformed     -        -   0.750962   \n",
       "4      OLS full model with both X&y log transformed     -        -   0.757336   \n",
       "5             Interaction MOdel between SOP and LOR     -        -   0.811496   \n",
       "6           Interaction between SOP/LOR & GRE/TOEFL     -        -   0.811414   \n",
       "\n",
       "   Adj. R-Squared  Train_RMSE  Test_RMSE  Test_MAPE  \n",
       "0        0.806647      0.0627     0.0662   7.047081  \n",
       "1        0.804730      0.0625     0.0657   7.028134  \n",
       "2        0.716817      0.0756     0.0758   8.308502  \n",
       "3        0.744556      0.1088     0.1058  23.663697  \n",
       "4        0.747026      0.1074     0.1050  21.826369  \n",
       "5        0.806023      0.0627     0.0662   7.047081  \n",
       "6        0.805311      0.0627     0.0662   7.049426  "
      ]
     },
     "execution_count": 570,
     "metadata": {},
     "output_type": "execute_result"
    }
   ],
   "source": [
    "linear_reg=LinearRegression()\n",
    "full_linear_regression_6=linear_reg.fit(X_train, y_train)\n",
    "update_score_card(\"Interaction between SOP/LOR & GRE/TOEFL\",full_linear_regression_6)"
   ]
  },
  {
   "cell_type": "markdown",
   "metadata": {},
   "source": [
    "<a id=\"full8\"></a>\n",
    "# 8) OLS with Standardised and encoded variables"
   ]
  },
  {
   "cell_type": "code",
   "execution_count": 571,
   "metadata": {},
   "outputs": [],
   "source": [
    "from sklearn.preprocessing import StandardScaler\n",
    "from sklearn.preprocessing import MinMaxScaler"
   ]
  },
  {
   "cell_type": "code",
   "execution_count": 572,
   "metadata": {},
   "outputs": [
    {
     "name": "stdout",
     "output_type": "stream",
     "text": [
      "                            OLS Regression Results                            \n",
      "==============================================================================\n",
      "Dep. Variable:       Chance of Admit    R-squared:                       0.812\n",
      "Model:                            OLS   Adj. R-squared:                  0.807\n",
      "Method:                 Least Squares   F-statistic:                     149.1\n",
      "Date:                Sat, 20 Feb 2021   Prob (F-statistic):          5.00e-107\n",
      "Time:                        08:59:33   Log-Likelihood:                 433.00\n",
      "No. Observations:                 320   AIC:                            -846.0\n",
      "Df Residuals:                     310   BIC:                            -808.3\n",
      "Df Model:                           9                                         \n",
      "Covariance Type:            nonrobust                                         \n",
      "===================================================================================================\n",
      "                                      coef    std err          t      P>|t|      [0.025      0.975]\n",
      "---------------------------------------------------------------------------------------------------\n",
      "GRE Score                           0.0207      0.008      2.674      0.008       0.005       0.036\n",
      "TOEFL Score                         0.0181      0.007      2.415      0.016       0.003       0.033\n",
      "LOR                                 0.0196      0.005      3.902      0.000       0.010       0.029\n",
      "CGPA                                0.0725      0.008      8.887      0.000       0.056       0.089\n",
      "Research_Research Completed         0.5264      0.005    102.034      0.000       0.516       0.537\n",
      "Research_Research Not Completed     0.5141      0.006     88.251      0.000       0.503       0.526\n",
      "University Rating_1                 0.2097      0.016     13.513      0.000       0.179       0.240\n",
      "University Rating_2                 0.1967      0.008     25.681      0.000       0.182       0.212\n",
      "University Rating_3                 0.2029      0.006     34.178      0.000       0.191       0.215\n",
      "University Rating_4                 0.2083      0.009     22.991      0.000       0.190       0.226\n",
      "University Rating_5                 0.2228      0.012     18.868      0.000       0.200       0.246\n",
      "==============================================================================\n",
      "Omnibus:                       59.849   Durbin-Watson:                   1.745\n",
      "Prob(Omnibus):                  0.000   Jarque-Bera (JB):              112.523\n",
      "Skew:                          -1.007   Prob(JB):                     3.68e-25\n",
      "Kurtosis:                       5.094   Cond. No.                     2.60e+16\n",
      "==============================================================================\n",
      "\n",
      "Warnings:\n",
      "[1] Standard Errors assume that the covariance matrix of the errors is correctly specified.\n",
      "[2] The smallest eigenvalue is 1.66e-30. This might indicate that there are\n",
      "strong multicollinearity problems or that the design matrix is singular.\n"
     ]
    }
   ],
   "source": [
    "a=df.drop(columns=[\"Chance of Admit \",\"Research\",\"University Rating\",\"SOP\"])\n",
    "dummy=pd.get_dummies(df[[\"Research\",\"University Rating\"]])\n",
    "sc=StandardScaler()\n",
    "b=sc.fit_transform(a)\n",
    "dfn1=pd.DataFrame(b,columns=a.columns,index=df.index)\n",
    "X=pd.concat([dfn1,dummy],axis=1)\n",
    "y=df[\"Chance of Admit \"]\n",
    "\n",
    "X_train, X_test, y_train, y_test = train_test_split(X, y, random_state = 10, test_size = 0.2)\n",
    "OLS_Scaled_std=sm.OLS(y_train,X_train).fit()\n",
    "print(OLS_Scaled_std.summary())"
   ]
  },
  {
   "cell_type": "code",
   "execution_count": 573,
   "metadata": {},
   "outputs": [
    {
     "data": {
      "text/html": [
       "<div>\n",
       "<style scoped>\n",
       "    .dataframe tbody tr th:only-of-type {\n",
       "        vertical-align: middle;\n",
       "    }\n",
       "\n",
       "    .dataframe tbody tr th {\n",
       "        vertical-align: top;\n",
       "    }\n",
       "\n",
       "    .dataframe thead th {\n",
       "        text-align: right;\n",
       "    }\n",
       "</style>\n",
       "<table border=\"1\" class=\"dataframe\">\n",
       "  <thead>\n",
       "    <tr style=\"text-align: right;\">\n",
       "      <th></th>\n",
       "      <th>Model_Name</th>\n",
       "      <th>Alpha</th>\n",
       "      <th>l1-ratio</th>\n",
       "      <th>R-Squared</th>\n",
       "      <th>Adj. R-Squared</th>\n",
       "      <th>Train_RMSE</th>\n",
       "      <th>Test_RMSE</th>\n",
       "      <th>Test_MAPE</th>\n",
       "    </tr>\n",
       "  </thead>\n",
       "  <tbody>\n",
       "    <tr>\n",
       "      <th>0</th>\n",
       "      <td>Simple full OLS model</td>\n",
       "      <td>-</td>\n",
       "      <td>-</td>\n",
       "      <td>0.811496</td>\n",
       "      <td>0.806647</td>\n",
       "      <td>0.0627</td>\n",
       "      <td>0.0662</td>\n",
       "      <td>7.047081</td>\n",
       "    </tr>\n",
       "    <tr>\n",
       "      <th>1</th>\n",
       "      <td>FUll OLS model with rating/research as object</td>\n",
       "      <td>-</td>\n",
       "      <td>-</td>\n",
       "      <td>0.812688</td>\n",
       "      <td>0.804730</td>\n",
       "      <td>0.0625</td>\n",
       "      <td>0.0657</td>\n",
       "      <td>7.028134</td>\n",
       "    </tr>\n",
       "    <tr>\n",
       "      <th>2</th>\n",
       "      <td>OLS model only with non-multicollinear varibales</td>\n",
       "      <td>-</td>\n",
       "      <td>-</td>\n",
       "      <td>0.725694</td>\n",
       "      <td>0.716817</td>\n",
       "      <td>0.0756</td>\n",
       "      <td>0.0758</td>\n",
       "      <td>8.308502</td>\n",
       "    </tr>\n",
       "    <tr>\n",
       "      <th>3</th>\n",
       "      <td>OLS full model with dependent log transformed</td>\n",
       "      <td>-</td>\n",
       "      <td>-</td>\n",
       "      <td>0.750962</td>\n",
       "      <td>0.744556</td>\n",
       "      <td>0.1088</td>\n",
       "      <td>0.1058</td>\n",
       "      <td>23.663697</td>\n",
       "    </tr>\n",
       "    <tr>\n",
       "      <th>4</th>\n",
       "      <td>OLS full model with both X&amp;y log transformed</td>\n",
       "      <td>-</td>\n",
       "      <td>-</td>\n",
       "      <td>0.757336</td>\n",
       "      <td>0.747026</td>\n",
       "      <td>0.1074</td>\n",
       "      <td>0.1050</td>\n",
       "      <td>21.826369</td>\n",
       "    </tr>\n",
       "    <tr>\n",
       "      <th>5</th>\n",
       "      <td>Interaction MOdel between SOP and LOR</td>\n",
       "      <td>-</td>\n",
       "      <td>-</td>\n",
       "      <td>0.811496</td>\n",
       "      <td>0.806023</td>\n",
       "      <td>0.0627</td>\n",
       "      <td>0.0662</td>\n",
       "      <td>7.047081</td>\n",
       "    </tr>\n",
       "    <tr>\n",
       "      <th>6</th>\n",
       "      <td>Interaction between SOP/LOR &amp; GRE/TOEFL</td>\n",
       "      <td>-</td>\n",
       "      <td>-</td>\n",
       "      <td>0.811414</td>\n",
       "      <td>0.805311</td>\n",
       "      <td>0.0627</td>\n",
       "      <td>0.0662</td>\n",
       "      <td>7.049426</td>\n",
       "    </tr>\n",
       "    <tr>\n",
       "      <th>7</th>\n",
       "      <td>OLS model with Standardisation</td>\n",
       "      <td>-</td>\n",
       "      <td>-</td>\n",
       "      <td>0.812292</td>\n",
       "      <td>0.805588</td>\n",
       "      <td>0.0625</td>\n",
       "      <td>0.0655</td>\n",
       "      <td>7.048511</td>\n",
       "    </tr>\n",
       "  </tbody>\n",
       "</table>\n",
       "</div>"
      ],
      "text/plain": [
       "                                         Model_Name Alpha l1-ratio  R-Squared  \\\n",
       "0                             Simple full OLS model     -        -   0.811496   \n",
       "1     FUll OLS model with rating/research as object     -        -   0.812688   \n",
       "2  OLS model only with non-multicollinear varibales     -        -   0.725694   \n",
       "3     OLS full model with dependent log transformed     -        -   0.750962   \n",
       "4      OLS full model with both X&y log transformed     -        -   0.757336   \n",
       "5             Interaction MOdel between SOP and LOR     -        -   0.811496   \n",
       "6           Interaction between SOP/LOR & GRE/TOEFL     -        -   0.811414   \n",
       "7                    OLS model with Standardisation     -        -   0.812292   \n",
       "\n",
       "   Adj. R-Squared  Train_RMSE  Test_RMSE  Test_MAPE  \n",
       "0        0.806647      0.0627     0.0662   7.047081  \n",
       "1        0.804730      0.0625     0.0657   7.028134  \n",
       "2        0.716817      0.0756     0.0758   8.308502  \n",
       "3        0.744556      0.1088     0.1058  23.663697  \n",
       "4        0.747026      0.1074     0.1050  21.826369  \n",
       "5        0.806023      0.0627     0.0662   7.047081  \n",
       "6        0.805311      0.0627     0.0662   7.049426  \n",
       "7        0.805588      0.0625     0.0655   7.048511  "
      ]
     },
     "execution_count": 573,
     "metadata": {},
     "output_type": "execute_result"
    }
   ],
   "source": [
    "linear_reg=LinearRegression()\n",
    "full_linear_regression_7=linear_reg.fit(X_train, y_train)\n",
    "update_score_card(\"OLS model with Standardisation\",full_linear_regression_7)"
   ]
  },
  {
   "cell_type": "markdown",
   "metadata": {},
   "source": [
    "<a id=\"full9\"></a>\n",
    "# 9) OLS with Normalised and encoded variables"
   ]
  },
  {
   "cell_type": "code",
   "execution_count": 622,
   "metadata": {},
   "outputs": [
    {
     "name": "stdout",
     "output_type": "stream",
     "text": [
      "                            OLS Regression Results                            \n",
      "==============================================================================\n",
      "Dep. Variable:       Chance of Admit    R-squared:                       0.812\n",
      "Model:                            OLS   Adj. R-squared:                  0.807\n",
      "Method:                 Least Squares   F-statistic:                     149.1\n",
      "Date:                Mon, 22 Feb 2021   Prob (F-statistic):          5.00e-107\n",
      "Time:                        08:28:29   Log-Likelihood:                 433.00\n",
      "No. Observations:                 320   AIC:                            -846.0\n",
      "Df Residuals:                     310   BIC:                            -808.3\n",
      "Df Model:                           9                                         \n",
      "Covariance Type:            nonrobust                                         \n",
      "===================================================================================================\n",
      "                                      coef    std err          t      P>|t|      [0.025      0.975]\n",
      "---------------------------------------------------------------------------------------------------\n",
      "GRE Score                           0.0905      0.034      2.674      0.008       0.024       0.157\n",
      "TOEFL Score                         0.0835      0.035      2.415      0.016       0.015       0.152\n",
      "LOR                                 0.0873      0.022      3.902      0.000       0.043       0.131\n",
      "CGPA                                0.3799      0.043      8.887      0.000       0.296       0.464\n",
      "Research_Research Completed         0.2642      0.016     16.692      0.000       0.233       0.295\n",
      "Research_Research Not Completed     0.2519      0.013     19.070      0.000       0.226       0.278\n",
      "University Rating_1                 0.1048      0.013      7.943      0.000       0.079       0.131\n",
      "University Rating_2                 0.0919      0.007     12.915      0.000       0.078       0.106\n",
      "University Rating_3                 0.0981      0.008     12.339      0.000       0.082       0.114\n",
      "University Rating_4                 0.1035      0.013      8.172      0.000       0.079       0.128\n",
      "University Rating_5                 0.1179      0.016      7.400      0.000       0.087       0.149\n",
      "==============================================================================\n",
      "Omnibus:                       59.849   Durbin-Watson:                   1.745\n",
      "Prob(Omnibus):                  0.000   Jarque-Bera (JB):              112.523\n",
      "Skew:                          -1.007   Prob(JB):                     3.68e-25\n",
      "Kurtosis:                       5.094   Cond. No.                     2.04e+16\n",
      "==============================================================================\n",
      "\n",
      "Warnings:\n",
      "[1] Standard Errors assume that the covariance matrix of the errors is correctly specified.\n",
      "[2] The smallest eigenvalue is 1.65e-30. This might indicate that there are\n",
      "strong multicollinearity problems or that the design matrix is singular.\n"
     ]
    }
   ],
   "source": [
    "a=df.drop(columns=[\"Chance of Admit \",\"Research\",\"University Rating\",\"SOP\"])\n",
    "dummy=pd.get_dummies(df[[\"Research\",\"University Rating\"]])\n",
    "mm=MinMaxScaler()\n",
    "b=mm.fit_transform(a)\n",
    "dfn1=pd.DataFrame(b,columns=a.columns,index=df.index)\n",
    "X=pd.concat([dfn1,dummy],axis=1)\n",
    "y=df[\"Chance of Admit \"]\n",
    "\n",
    "X_train, X_test, y_train, y_test = train_test_split(X, y, random_state = 10, test_size = 0.2)\n",
    "OLS_Scaled_normalise=sm.OLS(y_train,X_train).fit()\n",
    "print(OLS_Scaled_normalise.summary())"
   ]
  },
  {
   "cell_type": "code",
   "execution_count": 575,
   "metadata": {},
   "outputs": [
    {
     "data": {
      "text/html": [
       "<div>\n",
       "<style scoped>\n",
       "    .dataframe tbody tr th:only-of-type {\n",
       "        vertical-align: middle;\n",
       "    }\n",
       "\n",
       "    .dataframe tbody tr th {\n",
       "        vertical-align: top;\n",
       "    }\n",
       "\n",
       "    .dataframe thead th {\n",
       "        text-align: right;\n",
       "    }\n",
       "</style>\n",
       "<table border=\"1\" class=\"dataframe\">\n",
       "  <thead>\n",
       "    <tr style=\"text-align: right;\">\n",
       "      <th></th>\n",
       "      <th>Model_Name</th>\n",
       "      <th>Alpha</th>\n",
       "      <th>l1-ratio</th>\n",
       "      <th>R-Squared</th>\n",
       "      <th>Adj. R-Squared</th>\n",
       "      <th>Train_RMSE</th>\n",
       "      <th>Test_RMSE</th>\n",
       "      <th>Test_MAPE</th>\n",
       "    </tr>\n",
       "  </thead>\n",
       "  <tbody>\n",
       "    <tr>\n",
       "      <th>0</th>\n",
       "      <td>Simple full OLS model</td>\n",
       "      <td>-</td>\n",
       "      <td>-</td>\n",
       "      <td>0.811496</td>\n",
       "      <td>0.806647</td>\n",
       "      <td>0.0627</td>\n",
       "      <td>0.0662</td>\n",
       "      <td>7.047081</td>\n",
       "    </tr>\n",
       "    <tr>\n",
       "      <th>1</th>\n",
       "      <td>FUll OLS model with rating/research as object</td>\n",
       "      <td>-</td>\n",
       "      <td>-</td>\n",
       "      <td>0.812688</td>\n",
       "      <td>0.804730</td>\n",
       "      <td>0.0625</td>\n",
       "      <td>0.0657</td>\n",
       "      <td>7.028134</td>\n",
       "    </tr>\n",
       "    <tr>\n",
       "      <th>2</th>\n",
       "      <td>OLS model only with non-multicollinear varibales</td>\n",
       "      <td>-</td>\n",
       "      <td>-</td>\n",
       "      <td>0.725694</td>\n",
       "      <td>0.716817</td>\n",
       "      <td>0.0756</td>\n",
       "      <td>0.0758</td>\n",
       "      <td>8.308502</td>\n",
       "    </tr>\n",
       "    <tr>\n",
       "      <th>3</th>\n",
       "      <td>OLS full model with dependent log transformed</td>\n",
       "      <td>-</td>\n",
       "      <td>-</td>\n",
       "      <td>0.750962</td>\n",
       "      <td>0.744556</td>\n",
       "      <td>0.1088</td>\n",
       "      <td>0.1058</td>\n",
       "      <td>23.663697</td>\n",
       "    </tr>\n",
       "    <tr>\n",
       "      <th>4</th>\n",
       "      <td>OLS full model with both X&amp;y log transformed</td>\n",
       "      <td>-</td>\n",
       "      <td>-</td>\n",
       "      <td>0.757336</td>\n",
       "      <td>0.747026</td>\n",
       "      <td>0.1074</td>\n",
       "      <td>0.1050</td>\n",
       "      <td>21.826369</td>\n",
       "    </tr>\n",
       "    <tr>\n",
       "      <th>5</th>\n",
       "      <td>Interaction MOdel between SOP and LOR</td>\n",
       "      <td>-</td>\n",
       "      <td>-</td>\n",
       "      <td>0.811496</td>\n",
       "      <td>0.806023</td>\n",
       "      <td>0.0627</td>\n",
       "      <td>0.0662</td>\n",
       "      <td>7.047081</td>\n",
       "    </tr>\n",
       "    <tr>\n",
       "      <th>6</th>\n",
       "      <td>Interaction between SOP/LOR &amp; GRE/TOEFL</td>\n",
       "      <td>-</td>\n",
       "      <td>-</td>\n",
       "      <td>0.811414</td>\n",
       "      <td>0.805311</td>\n",
       "      <td>0.0627</td>\n",
       "      <td>0.0662</td>\n",
       "      <td>7.049426</td>\n",
       "    </tr>\n",
       "    <tr>\n",
       "      <th>7</th>\n",
       "      <td>OLS model with Standardisation</td>\n",
       "      <td>-</td>\n",
       "      <td>-</td>\n",
       "      <td>0.812292</td>\n",
       "      <td>0.805588</td>\n",
       "      <td>0.0625</td>\n",
       "      <td>0.0655</td>\n",
       "      <td>7.048511</td>\n",
       "    </tr>\n",
       "    <tr>\n",
       "      <th>8</th>\n",
       "      <td>OLS model with NOrmalisation</td>\n",
       "      <td>-</td>\n",
       "      <td>-</td>\n",
       "      <td>0.812292</td>\n",
       "      <td>0.805588</td>\n",
       "      <td>0.0625</td>\n",
       "      <td>0.0655</td>\n",
       "      <td>7.048511</td>\n",
       "    </tr>\n",
       "  </tbody>\n",
       "</table>\n",
       "</div>"
      ],
      "text/plain": [
       "                                         Model_Name Alpha l1-ratio  R-Squared  \\\n",
       "0                             Simple full OLS model     -        -   0.811496   \n",
       "1     FUll OLS model with rating/research as object     -        -   0.812688   \n",
       "2  OLS model only with non-multicollinear varibales     -        -   0.725694   \n",
       "3     OLS full model with dependent log transformed     -        -   0.750962   \n",
       "4      OLS full model with both X&y log transformed     -        -   0.757336   \n",
       "5             Interaction MOdel between SOP and LOR     -        -   0.811496   \n",
       "6           Interaction between SOP/LOR & GRE/TOEFL     -        -   0.811414   \n",
       "7                    OLS model with Standardisation     -        -   0.812292   \n",
       "8                      OLS model with NOrmalisation     -        -   0.812292   \n",
       "\n",
       "   Adj. R-Squared  Train_RMSE  Test_RMSE  Test_MAPE  \n",
       "0        0.806647      0.0627     0.0662   7.047081  \n",
       "1        0.804730      0.0625     0.0657   7.028134  \n",
       "2        0.716817      0.0756     0.0758   8.308502  \n",
       "3        0.744556      0.1088     0.1058  23.663697  \n",
       "4        0.747026      0.1074     0.1050  21.826369  \n",
       "5        0.806023      0.0627     0.0662   7.047081  \n",
       "6        0.805311      0.0627     0.0662   7.049426  \n",
       "7        0.805588      0.0625     0.0655   7.048511  \n",
       "8        0.805588      0.0625     0.0655   7.048511  "
      ]
     },
     "execution_count": 575,
     "metadata": {},
     "output_type": "execute_result"
    }
   ],
   "source": [
    "linear_reg=LinearRegression()\n",
    "full_linear_regression_8=linear_reg.fit(X_train, y_train)\n",
    "update_score_card(\"OLS model with NOrmalisation\",full_linear_regression_8)"
   ]
  },
  {
   "cell_type": "code",
   "execution_count": 578,
   "metadata": {},
   "outputs": [
    {
     "data": {
      "image/png": "[encoded data removed]",
      "text/plain": [
       "<Figure size 1080x576 with 1 Axes>"
      ]
     },
     "metadata": {
      "needs_background": "light"
     },
     "output_type": "display_data"
    }
   ],
   "source": [
    "OLS_Scaled_normalise.resid.hist()\n",
    "plt.show()"
   ]
  },
  {
   "cell_type": "markdown",
   "metadata": {},
   "source": [
    "<a id=\"full10\"></a>\n",
    "# 10)Linear Regression using SGD"
   ]
  },
  {
   "cell_type": "code",
   "execution_count": 623,
   "metadata": {},
   "outputs": [
    {
     "data": {
      "text/html": [
       "<div>\n",
       "<style scoped>\n",
       "    .dataframe tbody tr th:only-of-type {\n",
       "        vertical-align: middle;\n",
       "    }\n",
       "\n",
       "    .dataframe tbody tr th {\n",
       "        vertical-align: top;\n",
       "    }\n",
       "\n",
       "    .dataframe thead th {\n",
       "        text-align: right;\n",
       "    }\n",
       "</style>\n",
       "<table border=\"1\" class=\"dataframe\">\n",
       "  <thead>\n",
       "    <tr style=\"text-align: right;\">\n",
       "      <th></th>\n",
       "      <th>Model_Name</th>\n",
       "      <th>Alpha</th>\n",
       "      <th>l1-ratio</th>\n",
       "      <th>R-Squared</th>\n",
       "      <th>Adj. R-Squared</th>\n",
       "      <th>Train_RMSE</th>\n",
       "      <th>Test_RMSE</th>\n",
       "      <th>Test_MAPE</th>\n",
       "    </tr>\n",
       "  </thead>\n",
       "  <tbody>\n",
       "    <tr>\n",
       "      <th>0</th>\n",
       "      <td>Simple full OLS model</td>\n",
       "      <td>-</td>\n",
       "      <td>-</td>\n",
       "      <td>0.811496</td>\n",
       "      <td>0.806647</td>\n",
       "      <td>0.0627</td>\n",
       "      <td>0.0662</td>\n",
       "      <td>7.047081</td>\n",
       "    </tr>\n",
       "    <tr>\n",
       "      <th>1</th>\n",
       "      <td>FUll OLS model with rating/research as object</td>\n",
       "      <td>-</td>\n",
       "      <td>-</td>\n",
       "      <td>0.812688</td>\n",
       "      <td>0.804730</td>\n",
       "      <td>0.0625</td>\n",
       "      <td>0.0657</td>\n",
       "      <td>7.028134</td>\n",
       "    </tr>\n",
       "    <tr>\n",
       "      <th>2</th>\n",
       "      <td>OLS model only with non-multicollinear varibales</td>\n",
       "      <td>-</td>\n",
       "      <td>-</td>\n",
       "      <td>0.725694</td>\n",
       "      <td>0.716817</td>\n",
       "      <td>0.0756</td>\n",
       "      <td>0.0758</td>\n",
       "      <td>8.308502</td>\n",
       "    </tr>\n",
       "    <tr>\n",
       "      <th>3</th>\n",
       "      <td>OLS full model with dependent log transformed</td>\n",
       "      <td>-</td>\n",
       "      <td>-</td>\n",
       "      <td>0.750962</td>\n",
       "      <td>0.744556</td>\n",
       "      <td>0.1088</td>\n",
       "      <td>0.1058</td>\n",
       "      <td>23.663697</td>\n",
       "    </tr>\n",
       "    <tr>\n",
       "      <th>4</th>\n",
       "      <td>OLS full model with both X&amp;y log transformed</td>\n",
       "      <td>-</td>\n",
       "      <td>-</td>\n",
       "      <td>0.757336</td>\n",
       "      <td>0.747026</td>\n",
       "      <td>0.1074</td>\n",
       "      <td>0.1050</td>\n",
       "      <td>21.826369</td>\n",
       "    </tr>\n",
       "    <tr>\n",
       "      <th>5</th>\n",
       "      <td>Interaction MOdel between SOP and LOR</td>\n",
       "      <td>-</td>\n",
       "      <td>-</td>\n",
       "      <td>0.811496</td>\n",
       "      <td>0.806023</td>\n",
       "      <td>0.0627</td>\n",
       "      <td>0.0662</td>\n",
       "      <td>7.047081</td>\n",
       "    </tr>\n",
       "    <tr>\n",
       "      <th>6</th>\n",
       "      <td>Interaction between SOP/LOR &amp; GRE/TOEFL</td>\n",
       "      <td>-</td>\n",
       "      <td>-</td>\n",
       "      <td>0.811414</td>\n",
       "      <td>0.805311</td>\n",
       "      <td>0.0627</td>\n",
       "      <td>0.0662</td>\n",
       "      <td>7.049426</td>\n",
       "    </tr>\n",
       "    <tr>\n",
       "      <th>7</th>\n",
       "      <td>OLS model with Standardisation</td>\n",
       "      <td>-</td>\n",
       "      <td>-</td>\n",
       "      <td>0.812292</td>\n",
       "      <td>0.805588</td>\n",
       "      <td>0.0625</td>\n",
       "      <td>0.0655</td>\n",
       "      <td>7.048511</td>\n",
       "    </tr>\n",
       "    <tr>\n",
       "      <th>8</th>\n",
       "      <td>OLS model with NOrmalisation</td>\n",
       "      <td>-</td>\n",
       "      <td>-</td>\n",
       "      <td>0.812292</td>\n",
       "      <td>0.805588</td>\n",
       "      <td>0.0625</td>\n",
       "      <td>0.0655</td>\n",
       "      <td>7.048511</td>\n",
       "    </tr>\n",
       "    <tr>\n",
       "      <th>9</th>\n",
       "      <td>Linear Regression using SGD</td>\n",
       "      <td>-</td>\n",
       "      <td>-</td>\n",
       "      <td>0.785359</td>\n",
       "      <td>0.777693</td>\n",
       "      <td>0.0669</td>\n",
       "      <td>0.0670</td>\n",
       "      <td>7.272000</td>\n",
       "    </tr>\n",
       "    <tr>\n",
       "      <th>10</th>\n",
       "      <td>Linear Regression using SGD</td>\n",
       "      <td>-</td>\n",
       "      <td>-</td>\n",
       "      <td>0.783998</td>\n",
       "      <td>0.776283</td>\n",
       "      <td>0.0671</td>\n",
       "      <td>0.0673</td>\n",
       "      <td>7.253531</td>\n",
       "    </tr>\n",
       "  </tbody>\n",
       "</table>\n",
       "</div>"
      ],
      "text/plain": [
       "                                          Model_Name Alpha l1-ratio  \\\n",
       "0                              Simple full OLS model     -        -   \n",
       "1      FUll OLS model with rating/research as object     -        -   \n",
       "2   OLS model only with non-multicollinear varibales     -        -   \n",
       "3      OLS full model with dependent log transformed     -        -   \n",
       "4       OLS full model with both X&y log transformed     -        -   \n",
       "5              Interaction MOdel between SOP and LOR     -        -   \n",
       "6            Interaction between SOP/LOR & GRE/TOEFL     -        -   \n",
       "7                     OLS model with Standardisation     -        -   \n",
       "8                       OLS model with NOrmalisation     -        -   \n",
       "9                        Linear Regression using SGD     -        -   \n",
       "10                       Linear Regression using SGD     -        -   \n",
       "\n",
       "    R-Squared  Adj. R-Squared  Train_RMSE  Test_RMSE  Test_MAPE  \n",
       "0    0.811496        0.806647      0.0627     0.0662   7.047081  \n",
       "1    0.812688        0.804730      0.0625     0.0657   7.028134  \n",
       "2    0.725694        0.716817      0.0756     0.0758   8.308502  \n",
       "3    0.750962        0.744556      0.1088     0.1058  23.663697  \n",
       "4    0.757336        0.747026      0.1074     0.1050  21.826369  \n",
       "5    0.811496        0.806023      0.0627     0.0662   7.047081  \n",
       "6    0.811414        0.805311      0.0627     0.0662   7.049426  \n",
       "7    0.812292        0.805588      0.0625     0.0655   7.048511  \n",
       "8    0.812292        0.805588      0.0625     0.0655   7.048511  \n",
       "9    0.785359        0.777693      0.0669     0.0670   7.272000  \n",
       "10   0.783998        0.776283      0.0671     0.0673   7.253531  "
      ]
     },
     "execution_count": 623,
     "metadata": {},
     "output_type": "execute_result"
    }
   ],
   "source": [
    "from sklearn.linear_model import SGDRegressor\n",
    "\n",
    "linreg_with_SGD = SGDRegressor()\n",
    "linreg_with_SGD = linreg_with_SGD.fit(X_train, y_train)\n",
    "update_score_card(\"Linear Regression using SGD\",linreg_with_SGD)"
   ]
  },
  {
   "cell_type": "markdown",
   "metadata": {},
   "source": [
    "# Cross Validation"
   ]
  },
  {
   "cell_type": "code",
   "execution_count": null,
   "metadata": {},
   "outputs": [],
   "source": [
    "# Let us take the normalised data in point 8."
   ]
  },
  {
   "cell_type": "code",
   "execution_count": 626,
   "metadata": {},
   "outputs": [],
   "source": [
    "a=df.drop(columns=[\"Chance of Admit \",\"Research\",\"University Rating\",\"SOP\"])\n",
    "dummy=pd.get_dummies(df[[\"Research\",\"University Rating\"]])\n",
    "mm=MinMaxScaler()\n",
    "b=mm.fit_transform(a)\n",
    "dfn1=pd.DataFrame(b,columns=a.columns,index=df.index)\n",
    "X=pd.concat([dfn1,dummy],axis=1)\n",
    "y=df[\"Chance of Admit \"]\n",
    "X_train, X_test, y_train, y_test = train_test_split(X, y, random_state = 10, test_size = 0.2)"
   ]
  },
  {
   "cell_type": "markdown",
   "metadata": {},
   "source": [
    "### K-Fold Cross Validation"
   ]
  },
  {
   "cell_type": "code",
   "execution_count": 661,
   "metadata": {},
   "outputs": [],
   "source": [
    "kf = KFold(n_splits = 5)"
   ]
  },
  {
   "cell_type": "code",
   "execution_count": 662,
   "metadata": {},
   "outputs": [],
   "source": [
    "def Get_score(model, X_train, X_test, y_train, y_test):\n",
    "    model.fit(X_train, y_train)                                   \n",
    "    return model.score(X_test, y_test)                            "
   ]
  },
  {
   "cell_type": "code",
   "execution_count": 663,
   "metadata": {},
   "outputs": [],
   "source": [
    "X_train, X_test, y_train, y_test = train_test_split(X, y, random_state = 10, test_size = 0.3)"
   ]
  },
  {
   "cell_type": "code",
   "execution_count": 664,
   "metadata": {},
   "outputs": [
    {
     "name": "stdout",
     "output_type": "stream",
     "text": [
      "All scores:  [0.8955251802205476, 0.8098599745005333, 0.7034575452495702, 0.8667024843456677, 0.7735637685232154]\n",
      "\n",
      "Minimum score obtained:  0.7035\n",
      "Maximum score obtained:  0.8955\n",
      "Average score obtained:  0.8098\n"
     ]
    }
   ],
   "source": [
    "scores = []\n",
    "\n",
    "for train_index, test_index in kf.split(X_train):\n",
    "    X_train_k, X_test_k, y_train_k, y_test_k = X_train.iloc[train_index], X_train.iloc[test_index], \\\n",
    "                                               y_train.iloc[train_index], y_train.iloc[test_index]\n",
    "   \n",
    "    scores.append(Get_score(LinearRegression(), X_train_k, X_test_k, y_train_k, y_test_k)) \n",
    "print('All scores: ', scores)\n",
    "print(\"\\nMinimum score obtained: \", round(min(scores), 4)) \n",
    "print(\"Maximum score obtained: \", round(max(scores), 4))\n",
    "print(\"Average score obtained: \", round(np.mean(scores), 4))"
   ]
  },
  {
   "cell_type": "markdown",
   "metadata": {},
   "source": [
    "# K-Fold Cross Validation using cross_val_score()"
   ]
  },
  {
   "cell_type": "code",
   "execution_count": 647,
   "metadata": {},
   "outputs": [],
   "source": [
    "scores = cross_val_score(estimator = LinearRegression(), \n",
    "                         X = X_train, \n",
    "                         y = y_train, \n",
    "                         cv = 5, \n",
    "                         scoring = 'r2')"
   ]
  },
  {
   "cell_type": "code",
   "execution_count": 648,
   "metadata": {},
   "outputs": [
    {
     "name": "stdout",
     "output_type": "stream",
     "text": [
      "All scores:  [0.89552518 0.80985997 0.70345755 0.86670248 0.77356377]\n",
      "\n",
      "Minimum score obtained:  0.7035\n",
      "Maximum score obtained:  0.8955\n",
      "Average score obtained:  0.8098\n"
     ]
    }
   ],
   "source": [
    "print('All scores: ', scores)\n",
    "print(\"\\nMinimum score obtained: \", round(min(scores), 4)) \n",
    "print(\"Maximum score obtained: \", round(max(scores), 4))\n",
    "print(\"Average score obtained: \", round(np.mean(scores), 4))"
   ]
  },
  {
   "cell_type": "markdown",
   "metadata": {},
   "source": [
    "# Leave One Out Cross Validation (LOOCV)"
   ]
  },
  {
   "cell_type": "code",
   "execution_count": 651,
   "metadata": {},
   "outputs": [],
   "source": [
    "loocv_rmse = []\n",
    "loocv = LeaveOneOut()\n",
    "for train_index, test_index in loocv.split(X_train):\n",
    "    X_train_l, X_test_l, y_train_l, y_test_l = X_train.iloc[train_index], X_train.iloc[test_index], \\\n",
    "                                               y_train.iloc[train_index], y_train.iloc[test_index]\n",
    "    linreg = LinearRegression()\n",
    "    linreg.fit(X_train_l, y_train_l)\n",
    "    mse = mean_squared_error(y_test_l, linreg.predict(X_test_l))\n",
    "    rmse = np.sqrt(mse)\n",
    "    loocv_rmse.append(rmse)"
   ]
  },
  {
   "cell_type": "code",
   "execution_count": 652,
   "metadata": {},
   "outputs": [
    {
     "name": "stdout",
     "output_type": "stream",
     "text": [
      "\n",
      "Minimum rmse obtained:  0.0\n",
      "Maximum rmse obtained:  0.2768\n",
      "Average rmse obtained:  0.0468\n"
     ]
    }
   ],
   "source": [
    "print(\"\\nMinimum rmse obtained: \", round(min(loocv_rmse), 4))\n",
    "print(\"Maximum rmse obtained: \", round(max(loocv_rmse), 4))\n",
    "print(\"Average rmse obtained: \", round(np.mean(loocv_rmse), 4))"
   ]
  },
  {
   "cell_type": "markdown",
   "metadata": {},
   "source": [
    "# Regularisation"
   ]
  },
  {
   "cell_type": "code",
   "execution_count": 601,
   "metadata": {},
   "outputs": [
    {
     "name": "stdout",
     "output_type": "stream",
     "text": [
      "RMSE on train set: 0.0794\n",
      "RMSE on test set: 0.0735\n"
     ]
    }
   ],
   "source": [
    "a=df.drop(columns=[\"Chance of Admit \",\"Research\",\"University Rating\",\"SOP\"])\n",
    "dummy=pd.get_dummies(df[[\"Research\",\"University Rating\"]])\n",
    "mm=MinMaxScaler()\n",
    "b=mm.fit_transform(a)\n",
    "dfn1=pd.DataFrame(b,columns=a.columns,index=df.index)\n",
    "X=pd.concat([dfn1,dummy],axis=1)\n",
    "y=df[\"Chance of Admit \"]\n",
    "X_train, X_test, y_train, y_test = train_test_split(X, y, random_state = 10, test_size = 0.2)\n",
    "\n",
    "enet = ElasticNet(alpha = 0.1, l1_ratio = 0.01, max_iter = 500)\n",
    "enet.fit(X_train, y_train)\n",
    "print('RMSE on train set:', get_train_rmse(enet))\n",
    "print('RMSE on test set:', get_test_rmse(enet))"
   ]
  },
  {
   "cell_type": "code",
   "execution_count": 616,
   "metadata": {},
   "outputs": [
    {
     "name": "stdout",
     "output_type": "stream",
     "text": [
      "Best parameters for Ridge Regression:  {'alpha': 5} \n",
      "\n",
      "RMSE on train set: 0.0659\n",
      "RMSE on test set: 0.0658\n"
     ]
    }
   ],
   "source": [
    "a=df.drop(columns=[\"Chance of Admit \",\"Research\",\"University Rating\",\"SOP\"])\n",
    "dummy=pd.get_dummies(df[[\"Research\",\"University Rating\"]])\n",
    "mm=MinMaxScaler()\n",
    "b=mm.fit_transform(a)\n",
    "dfn1=pd.DataFrame(b,columns=a.columns,index=df.index)\n",
    "X=pd.concat([dfn1,dummy],axis=1)\n",
    "y=df[\"Chance of Admit \"]\n",
    "X_train, X_test, y_train, y_test = train_test_split(X, y, random_state = 10, test_size = 0.2)\n",
    "\n",
    "tuned_paramaters = [{'alpha':[1e-15, 1e-10, 1e-8, 1e-4,1e-3, 1e-2, 0.1, 1, 5,6,7,8,9, 10, 20, 40, 60, 80, 100]}]\n",
    "ridge = Ridge()\n",
    "ridge_grid = GridSearchCV(estimator = ridge, \n",
    "                          param_grid = tuned_paramaters, \n",
    "                          cv = 100)\n",
    "ridge_grid.fit(X_train, y_train)\n",
    "print('Best parameters for Ridge Regression: ', ridge_grid.best_params_, '\\n')\n",
    "print('RMSE on train set:', get_train_rmse(ridge_grid))\n",
    "print('RMSE on test set:', get_test_rmse(ridge_grid))"
   ]
  },
  {
   "cell_type": "code",
   "execution_count": 618,
   "metadata": {},
   "outputs": [
    {
     "name": "stdout",
     "output_type": "stream",
     "text": [
      "Best parameters for Lasso Regression:  {'alpha': 1e-08} \n",
      "\n",
      "RMSE on train set: 0.0625\n",
      "RMSE on test set: 0.0655\n"
     ]
    }
   ],
   "source": [
    "a=df.drop(columns=[\"Chance of Admit \",\"Research\",\"University Rating\",\"SOP\"])\n",
    "dummy=pd.get_dummies(df[[\"Research\",\"University Rating\"]])\n",
    "mm=MinMaxScaler()\n",
    "b=mm.fit_transform(a)\n",
    "dfn1=pd.DataFrame(b,columns=a.columns,index=df.index)\n",
    "X=pd.concat([dfn1,dummy],axis=1)\n",
    "y=df[\"Chance of Admit \"]\n",
    "X_train, X_test, y_train, y_test = train_test_split(X, y, random_state = 10, test_size = 0.2)\n",
    "\n",
    "tuned_paramaters = [{'alpha':[1e-15, 1e-10, 1e-8, 0.0001, 0.001, 0.01, 0.1, 1, 5, 10, 20]}]\n",
    "lasso = Lasso()\n",
    "lasso_grid = GridSearchCV(estimator = lasso, \n",
    "                          param_grid = tuned_paramaters, \n",
    "                          cv = 100)\n",
    "lasso_grid.fit(X_train, y_train)\n",
    "print('Best parameters for Lasso Regression: ', lasso_grid.best_params_, '\\n')\n",
    "print('RMSE on train set:', get_train_rmse(lasso_grid))\n",
    "print('RMSE on test set:', get_test_rmse(lasso_grid))"
   ]
  }
 ],
 "metadata": {
  "hide_input": false,
  "kernelspec": {
   "display_name": "Python 3",
   "language": "python",
   "name": "python3"
  },
  "language_info": {
   "codemirror_mode": {
    "name": "ipython",
    "version": 3
   },
   "file_extension": ".py",
   "mimetype": "text/x-python",
   "name": "python",
   "nbconvert_exporter": "python",
   "pygments_lexer": "ipython3",
   "version": "3.8.8"
  }
 },
 "nbformat": 4,
 "nbformat_minor": 4
}
